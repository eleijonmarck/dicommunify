{
 "cells": [
  {
   "cell_type": "markdown",
   "metadata": {},
   "source": [
    "# Usage of Keras for image_classification"
   ]
  },
  {
   "cell_type": "markdown",
   "metadata": {},
   "source": [
    "\n",
    "* configure random transformations and normalization operations to be done on your image data during training\n",
    "* instantiate generators of augmented image batches (and their labels) via .flow(data, labels) or .flow_from_directory(directory). These generators can then be used with the Keras model methods that accept data generators as inputs, fit_generator, evaluate_generator and predict_generator."
   ]
  },
  {
   "cell_type": "code",
   "execution_count": 28,
   "metadata": {
    "collapsed": true
   },
   "outputs": [],
   "source": [
    "import os\n",
    "curr_dir = %pwd\n",
    "proj_dir = os.path.normpath(os.path.join(curr_dir, os.path.pardir))"
   ]
  },
  {
   "cell_type": "code",
   "execution_count": 1,
   "metadata": {},
   "outputs": [
    {
     "name": "stderr",
     "output_type": "stream",
     "text": [
      "Using TensorFlow backend.\n"
     ]
    }
   ],
   "source": [
    "from keras.models import Sequential\n",
    "from keras.layers import Conv2D, MaxPooling2D\n",
    "from keras.layers import Activation, Dropout, Flatten, Dense\n",
    "from keras import regularizers\n",
    "from keras.layers.normalization import BatchNormalization\n",
    "\n",
    "import numpy as np\n",
    "seed = 13\n",
    "np.random.seed(seed)"
   ]
  },
  {
   "cell_type": "markdown",
   "metadata": {},
   "source": [
    "### GPU configuration, disregard if non-GPU"
   ]
  },
  {
   "cell_type": "code",
   "execution_count": 2,
   "metadata": {
    "collapsed": true
   },
   "outputs": [],
   "source": [
    "## use only 30 % of the memory\n",
    "import tensorflow as tf\n",
    "from keras.backend.tensorflow_backend import set_session\n",
    "config = tf.ConfigProto()\n",
    "config.gpu_options.per_process_gpu_memory_fraction = 0.5\n",
    "set_session(tf.Session(config=config))"
   ]
  },
  {
   "cell_type": "code",
   "execution_count": 3,
   "metadata": {
    "collapsed": true
   },
   "outputs": [],
   "source": [
    "# imports to display the svg image of the network\n",
    "from keras.utils import plot_model\n",
    "from IPython.display import SVG\n",
    "from keras.utils.vis_utils import model_to_dot\n",
    "import matplotlib.pyplot as plt\n",
    "\n",
    "import pydot\n",
    "import graphviz"
   ]
  },
  {
   "cell_type": "code",
   "execution_count": 4,
   "metadata": {
    "collapsed": true
   },
   "outputs": [],
   "source": [
    "from keras.preprocessing.image import ImageDataGenerator"
   ]
  },
  {
   "cell_type": "code",
   "execution_count": 5,
   "metadata": {
    "collapsed": true
   },
   "outputs": [],
   "source": [
    "batch_size = 32\n",
    "\n",
    "# train_datagen = ImageDataGenerator(rescale=1./255)\n",
    "train_datagen = ImageDataGenerator(rescale=1./255, horizontal_flip=True, width_shift_range=0.1,\n",
    "                                  height_shift_range=0.1,zoom_range=0.1)\n",
    "\n",
    "# only rescaling augmentation for test samples\n",
    "test_datagen = ImageDataGenerator(rescale=1./255)"
   ]
  },
  {
   "cell_type": "code",
   "execution_count": 11,
   "metadata": {
    "collapsed": true
   },
   "outputs": [],
   "source": [
    "train_dir = '../data/processed/train'\n",
    "test_dir = '../data/processed/test'"
   ]
  },
  {
   "cell_type": "code",
   "execution_count": 8,
   "metadata": {},
   "outputs": [
    {
     "data": {
      "text/plain": [
       "'/Users/ericleijonmarck/dev/dicommunify/notebooks'"
      ]
     },
     "execution_count": 8,
     "metadata": {},
     "output_type": "execute_result"
    }
   ],
   "source": [
    "%pwd"
   ]
  },
  {
   "cell_type": "code",
   "execution_count": 12,
   "metadata": {},
   "outputs": [
    {
     "name": "stdout",
     "output_type": "stream",
     "text": [
      "Found 400 images belonging to 5 classes.\n"
     ]
    }
   ],
   "source": [
    "# this is a generaotr that will read pictures \n",
    "# found in sub folders of 'data/train',\n",
    "# and indefinitely generate batches of augmented image data\n",
    "train_generator = train_datagen.flow_from_directory(\n",
    "                train_dir,\n",
    "                target_size=(100,50),\n",
    "                shuffle=True,\n",
    "                color_mode='grayscale',\n",
    "                batch_size=batch_size,\n",
    "                class_mode='categorical') # since we use categoricalentropy loss"
   ]
  },
  {
   "cell_type": "code",
   "execution_count": 13,
   "metadata": {},
   "outputs": [
    {
     "name": "stdout",
     "output_type": "stream",
     "text": [
      "Found 100 images belonging to 5 classes.\n"
     ]
    }
   ],
   "source": [
    "# this is a similar generatr, for validation/test data\n",
    "test_generator = test_datagen.flow_from_directory(\n",
    "    test_dir,\n",
    "    target_size=(100,50),\n",
    "    color_mode='grayscale',\n",
    "    batch_size=batch_size,\n",
    "    class_mode='categorical')"
   ]
  },
  {
   "cell_type": "markdown",
   "metadata": {},
   "source": [
    "# inspirational architectures taken from \n",
    "[brain_segmentation](https://github.com/naldeborgh7575/brain_segmentation/blob/master/code/Segmentation_Models.py)\n",
    "[image_classification](https://blog.keras.io/building-powerful-image-classification-models-using-very-little-data.html)\n",
    "\n"
   ]
  },
  {
   "cell_type": "code",
   "execution_count": 14,
   "metadata": {
    "collapsed": true
   },
   "outputs": [],
   "source": [
    "nb_train_samples = 400\n",
    "nb_test_samples = 100\n",
    "\n",
    "model = Sequential()\n",
    "\n",
    "model.add(Conv2D(64, (3,3), input_shape=(100,50,1), padding='same',\n",
    "                 kernel_regularizer=regularizers.l2(0.001),activity_regularizer=regularizers.l1(0.001)))\n",
    "model.add(Activation('relu'))\n",
    "model.add(MaxPooling2D(pool_size=(2,2)))\n",
    "model.add(Dropout(0.5))\n",
    "\n",
    "model.add(Conv2D(128, (3,3), padding='same'))#, kernel_regularizer=regularizers.l2(0.01),activity_regularizer=regularizers.l1(0.01)))\n",
    "model.add(Activation('relu'))\n",
    "model.add(MaxPooling2D(pool_size=(2,2)))\n",
    "model.add(Dropout(0.5))\n",
    "\n",
    "model.add(Flatten())\n",
    "model.add(Dense(512))\n",
    "model.add(Activation('relu'))\n",
    "model.add(Dropout(0.25))\n",
    "model.add(Dense(5))\n",
    "model.add(Activation('softmax'))\n",
    "\n",
    "from keras.optimizers import Adam\n",
    "          \n",
    "adam = Adam(lr=0.0001)\n",
    "model.compile(loss='categorical_crossentropy',\n",
    "              optimizer=adam,\n",
    "              metrics=['accuracy'])"
   ]
  },
  {
   "cell_type": "code",
   "execution_count": 16,
   "metadata": {},
   "outputs": [
    {
     "data": {
      "image/svg+xml": [
       "<svg height=\"1187pt\" viewBox=\"0.00 0.00 400.93 1187.00\" width=\"401pt\" xmlns=\"http://www.w3.org/2000/svg\" xmlns:xlink=\"http://www.w3.org/1999/xlink\">\n",
       "<g class=\"graph\" id=\"graph0\" transform=\"scale(1 1) rotate(0) translate(4 1183)\">\n",
       "<title>G</title>\n",
       "<polygon fill=\"#ffffff\" points=\"-4,4 -4,-1183 396.9277,-1183 396.9277,4 -4,4\" stroke=\"transparent\"/>\n",
       "<!-- 4673434792 -->\n",
       "<g class=\"node\" id=\"node1\">\n",
       "<title>4673434792</title>\n",
       "<polygon fill=\"none\" points=\"21.0171,-1134.5 21.0171,-1178.5 371.9106,-1178.5 371.9106,-1134.5 21.0171,-1134.5\" stroke=\"#000000\"/>\n",
       "<text fill=\"#000000\" font-family=\"Times,serif\" font-size=\"14.00\" text-anchor=\"middle\" x=\"109.3052\" y=\"-1152.3\">conv2d_1_input: InputLayer</text>\n",
       "<polyline fill=\"none\" points=\"197.5933,-1134.5 197.5933,-1178.5 \" stroke=\"#000000\"/>\n",
       "<text fill=\"#000000\" font-family=\"Times,serif\" font-size=\"14.00\" text-anchor=\"middle\" x=\"225.4277\" y=\"-1163.3\">input:</text>\n",
       "<polyline fill=\"none\" points=\"197.5933,-1156.5 253.2622,-1156.5 \" stroke=\"#000000\"/>\n",
       "<text fill=\"#000000\" font-family=\"Times,serif\" font-size=\"14.00\" text-anchor=\"middle\" x=\"225.4277\" y=\"-1141.3\">output:</text>\n",
       "<polyline fill=\"none\" points=\"253.2622,-1134.5 253.2622,-1178.5 \" stroke=\"#000000\"/>\n",
       "<text fill=\"#000000\" font-family=\"Times,serif\" font-size=\"14.00\" text-anchor=\"middle\" x=\"312.5864\" y=\"-1163.3\">(None, 100, 50, 1)</text>\n",
       "<polyline fill=\"none\" points=\"253.2622,-1156.5 371.9106,-1156.5 \" stroke=\"#000000\"/>\n",
       "<text fill=\"#000000\" font-family=\"Times,serif\" font-size=\"14.00\" text-anchor=\"middle\" x=\"312.5864\" y=\"-1141.3\">(None, 100, 50, 1)</text>\n",
       "</g>\n",
       "<!-- 4673434568 -->\n",
       "<g class=\"node\" id=\"node2\">\n",
       "<title>4673434568</title>\n",
       "<polygon fill=\"none\" points=\"42.7793,-1053.5 42.7793,-1097.5 350.1484,-1097.5 350.1484,-1053.5 42.7793,-1053.5\" stroke=\"#000000\"/>\n",
       "<text fill=\"#000000\" font-family=\"Times,serif\" font-size=\"14.00\" text-anchor=\"middle\" x=\"105.8052\" y=\"-1071.3\">conv2d_1: Conv2D</text>\n",
       "<polyline fill=\"none\" points=\"168.8311,-1053.5 168.8311,-1097.5 \" stroke=\"#000000\"/>\n",
       "<text fill=\"#000000\" font-family=\"Times,serif\" font-size=\"14.00\" text-anchor=\"middle\" x=\"196.6655\" y=\"-1082.3\">input:</text>\n",
       "<polyline fill=\"none\" points=\"168.8311,-1075.5 224.5,-1075.5 \" stroke=\"#000000\"/>\n",
       "<text fill=\"#000000\" font-family=\"Times,serif\" font-size=\"14.00\" text-anchor=\"middle\" x=\"196.6655\" y=\"-1060.3\">output:</text>\n",
       "<polyline fill=\"none\" points=\"224.5,-1053.5 224.5,-1097.5 \" stroke=\"#000000\"/>\n",
       "<text fill=\"#000000\" font-family=\"Times,serif\" font-size=\"14.00\" text-anchor=\"middle\" x=\"287.3242\" y=\"-1082.3\">(None, 100, 50, 1)</text>\n",
       "<polyline fill=\"none\" points=\"224.5,-1075.5 350.1484,-1075.5 \" stroke=\"#000000\"/>\n",
       "<text fill=\"#000000\" font-family=\"Times,serif\" font-size=\"14.00\" text-anchor=\"middle\" x=\"287.3242\" y=\"-1060.3\">(None, 100, 50, 64)</text>\n",
       "</g>\n",
       "<!-- 4673434792&#45;&gt;4673434568 -->\n",
       "<g class=\"edge\" id=\"edge1\">\n",
       "<title>4673434792-&gt;4673434568</title>\n",
       "<path d=\"M196.4639,-1134.3664C196.4639,-1126.1516 196.4639,-1116.6579 196.4639,-1107.7252\" fill=\"none\" stroke=\"#000000\"/>\n",
       "<polygon fill=\"#000000\" points=\"199.964,-1107.6068 196.4639,-1097.6068 192.964,-1107.6069 199.964,-1107.6068\" stroke=\"#000000\"/>\n",
       "</g>\n",
       "<!-- 4673653280 -->\n",
       "<g class=\"node\" id=\"node3\">\n",
       "<title>4673653280</title>\n",
       "<polygon fill=\"none\" points=\"30.3447,-972.5 30.3447,-1016.5 362.583,-1016.5 362.583,-972.5 30.3447,-972.5\" stroke=\"#000000\"/>\n",
       "<text fill=\"#000000\" font-family=\"Times,serif\" font-size=\"14.00\" text-anchor=\"middle\" x=\"105.8052\" y=\"-990.3\">activation_1: Activation</text>\n",
       "<polyline fill=\"none\" points=\"181.2656,-972.5 181.2656,-1016.5 \" stroke=\"#000000\"/>\n",
       "<text fill=\"#000000\" font-family=\"Times,serif\" font-size=\"14.00\" text-anchor=\"middle\" x=\"209.1001\" y=\"-1001.3\">input:</text>\n",
       "<polyline fill=\"none\" points=\"181.2656,-994.5 236.9346,-994.5 \" stroke=\"#000000\"/>\n",
       "<text fill=\"#000000\" font-family=\"Times,serif\" font-size=\"14.00\" text-anchor=\"middle\" x=\"209.1001\" y=\"-979.3\">output:</text>\n",
       "<polyline fill=\"none\" points=\"236.9346,-972.5 236.9346,-1016.5 \" stroke=\"#000000\"/>\n",
       "<text fill=\"#000000\" font-family=\"Times,serif\" font-size=\"14.00\" text-anchor=\"middle\" x=\"299.7588\" y=\"-1001.3\">(None, 100, 50, 64)</text>\n",
       "<polyline fill=\"none\" points=\"236.9346,-994.5 362.583,-994.5 \" stroke=\"#000000\"/>\n",
       "<text fill=\"#000000\" font-family=\"Times,serif\" font-size=\"14.00\" text-anchor=\"middle\" x=\"299.7588\" y=\"-979.3\">(None, 100, 50, 64)</text>\n",
       "</g>\n",
       "<!-- 4673434568&#45;&gt;4673653280 -->\n",
       "<g class=\"edge\" id=\"edge2\">\n",
       "<title>4673434568-&gt;4673653280</title>\n",
       "<path d=\"M196.4639,-1053.3664C196.4639,-1045.1516 196.4639,-1035.6579 196.4639,-1026.7252\" fill=\"none\" stroke=\"#000000\"/>\n",
       "<polygon fill=\"#000000\" points=\"199.964,-1026.6068 196.4639,-1016.6068 192.964,-1026.6069 199.964,-1026.6068\" stroke=\"#000000\"/>\n",
       "</g>\n",
       "<!-- 4673654176 -->\n",
       "<g class=\"node\" id=\"node4\">\n",
       "<title>4673654176</title>\n",
       "<polygon fill=\"none\" points=\"0,-891.5 0,-935.5 392.9277,-935.5 392.9277,-891.5 0,-891.5\" stroke=\"#000000\"/>\n",
       "<text fill=\"#000000\" font-family=\"Times,serif\" font-size=\"14.00\" text-anchor=\"middle\" x=\"105.8052\" y=\"-909.3\">max_pooling2d_1: MaxPooling2D</text>\n",
       "<polyline fill=\"none\" points=\"211.6104,-891.5 211.6104,-935.5 \" stroke=\"#000000\"/>\n",
       "<text fill=\"#000000\" font-family=\"Times,serif\" font-size=\"14.00\" text-anchor=\"middle\" x=\"239.4448\" y=\"-920.3\">input:</text>\n",
       "<polyline fill=\"none\" points=\"211.6104,-913.5 267.2793,-913.5 \" stroke=\"#000000\"/>\n",
       "<text fill=\"#000000\" font-family=\"Times,serif\" font-size=\"14.00\" text-anchor=\"middle\" x=\"239.4448\" y=\"-898.3\">output:</text>\n",
       "<polyline fill=\"none\" points=\"267.2793,-891.5 267.2793,-935.5 \" stroke=\"#000000\"/>\n",
       "<text fill=\"#000000\" font-family=\"Times,serif\" font-size=\"14.00\" text-anchor=\"middle\" x=\"330.1035\" y=\"-920.3\">(None, 100, 50, 64)</text>\n",
       "<polyline fill=\"none\" points=\"267.2793,-913.5 392.9277,-913.5 \" stroke=\"#000000\"/>\n",
       "<text fill=\"#000000\" font-family=\"Times,serif\" font-size=\"14.00\" text-anchor=\"middle\" x=\"330.1035\" y=\"-898.3\">(None, 50, 25, 64)</text>\n",
       "</g>\n",
       "<!-- 4673653280&#45;&gt;4673654176 -->\n",
       "<g class=\"edge\" id=\"edge3\">\n",
       "<title>4673653280-&gt;4673654176</title>\n",
       "<path d=\"M196.4639,-972.3664C196.4639,-964.1516 196.4639,-954.6579 196.4639,-945.7252\" fill=\"none\" stroke=\"#000000\"/>\n",
       "<polygon fill=\"#000000\" points=\"199.964,-945.6068 196.4639,-935.6068 192.964,-945.6069 199.964,-945.6068\" stroke=\"#000000\"/>\n",
       "</g>\n",
       "<!-- 4672824936 -->\n",
       "<g class=\"node\" id=\"node5\">\n",
       "<title>4672824936</title>\n",
       "<polygon fill=\"none\" points=\"45.5034,-810.5 45.5034,-854.5 347.4243,-854.5 347.4243,-810.5 45.5034,-810.5\" stroke=\"#000000\"/>\n",
       "<text fill=\"#000000\" font-family=\"Times,serif\" font-size=\"14.00\" text-anchor=\"middle\" x=\"109.3052\" y=\"-828.3\">dropout_1: Dropout</text>\n",
       "<polyline fill=\"none\" points=\"173.1069,-810.5 173.1069,-854.5 \" stroke=\"#000000\"/>\n",
       "<text fill=\"#000000\" font-family=\"Times,serif\" font-size=\"14.00\" text-anchor=\"middle\" x=\"200.9414\" y=\"-839.3\">input:</text>\n",
       "<polyline fill=\"none\" points=\"173.1069,-832.5 228.7759,-832.5 \" stroke=\"#000000\"/>\n",
       "<text fill=\"#000000\" font-family=\"Times,serif\" font-size=\"14.00\" text-anchor=\"middle\" x=\"200.9414\" y=\"-817.3\">output:</text>\n",
       "<polyline fill=\"none\" points=\"228.7759,-810.5 228.7759,-854.5 \" stroke=\"#000000\"/>\n",
       "<text fill=\"#000000\" font-family=\"Times,serif\" font-size=\"14.00\" text-anchor=\"middle\" x=\"288.1001\" y=\"-839.3\">(None, 50, 25, 64)</text>\n",
       "<polyline fill=\"none\" points=\"228.7759,-832.5 347.4243,-832.5 \" stroke=\"#000000\"/>\n",
       "<text fill=\"#000000\" font-family=\"Times,serif\" font-size=\"14.00\" text-anchor=\"middle\" x=\"288.1001\" y=\"-817.3\">(None, 50, 25, 64)</text>\n",
       "</g>\n",
       "<!-- 4673654176&#45;&gt;4672824936 -->\n",
       "<g class=\"edge\" id=\"edge4\">\n",
       "<title>4673654176-&gt;4672824936</title>\n",
       "<path d=\"M196.4639,-891.3664C196.4639,-883.1516 196.4639,-873.6579 196.4639,-864.7252\" fill=\"none\" stroke=\"#000000\"/>\n",
       "<polygon fill=\"#000000\" points=\"199.964,-864.6068 196.4639,-854.6068 192.964,-864.6069 199.964,-864.6068\" stroke=\"#000000\"/>\n",
       "</g>\n",
       "<!-- 4673434960 -->\n",
       "<g class=\"node\" id=\"node6\">\n",
       "<title>4673434960</title>\n",
       "<polygon fill=\"none\" points=\"42.7793,-729.5 42.7793,-773.5 350.1484,-773.5 350.1484,-729.5 42.7793,-729.5\" stroke=\"#000000\"/>\n",
       "<text fill=\"#000000\" font-family=\"Times,serif\" font-size=\"14.00\" text-anchor=\"middle\" x=\"105.8052\" y=\"-747.3\">conv2d_2: Conv2D</text>\n",
       "<polyline fill=\"none\" points=\"168.8311,-729.5 168.8311,-773.5 \" stroke=\"#000000\"/>\n",
       "<text fill=\"#000000\" font-family=\"Times,serif\" font-size=\"14.00\" text-anchor=\"middle\" x=\"196.6655\" y=\"-758.3\">input:</text>\n",
       "<polyline fill=\"none\" points=\"168.8311,-751.5 224.5,-751.5 \" stroke=\"#000000\"/>\n",
       "<text fill=\"#000000\" font-family=\"Times,serif\" font-size=\"14.00\" text-anchor=\"middle\" x=\"196.6655\" y=\"-736.3\">output:</text>\n",
       "<polyline fill=\"none\" points=\"224.5,-729.5 224.5,-773.5 \" stroke=\"#000000\"/>\n",
       "<text fill=\"#000000\" font-family=\"Times,serif\" font-size=\"14.00\" text-anchor=\"middle\" x=\"287.3242\" y=\"-758.3\">(None, 50, 25, 64)</text>\n",
       "<polyline fill=\"none\" points=\"224.5,-751.5 350.1484,-751.5 \" stroke=\"#000000\"/>\n",
       "<text fill=\"#000000\" font-family=\"Times,serif\" font-size=\"14.00\" text-anchor=\"middle\" x=\"287.3242\" y=\"-736.3\">(None, 50, 25, 128)</text>\n",
       "</g>\n",
       "<!-- 4672824936&#45;&gt;4673434960 -->\n",
       "<g class=\"edge\" id=\"edge5\">\n",
       "<title>4672824936-&gt;4673434960</title>\n",
       "<path d=\"M196.4639,-810.3664C196.4639,-802.1516 196.4639,-792.6579 196.4639,-783.7252\" fill=\"none\" stroke=\"#000000\"/>\n",
       "<polygon fill=\"#000000\" points=\"199.964,-783.6068 196.4639,-773.6068 192.964,-783.6069 199.964,-783.6068\" stroke=\"#000000\"/>\n",
       "</g>\n",
       "<!-- 4673653560 -->\n",
       "<g class=\"node\" id=\"node7\">\n",
       "<title>4673653560</title>\n",
       "<polygon fill=\"none\" points=\"30.3447,-648.5 30.3447,-692.5 362.583,-692.5 362.583,-648.5 30.3447,-648.5\" stroke=\"#000000\"/>\n",
       "<text fill=\"#000000\" font-family=\"Times,serif\" font-size=\"14.00\" text-anchor=\"middle\" x=\"105.8052\" y=\"-666.3\">activation_2: Activation</text>\n",
       "<polyline fill=\"none\" points=\"181.2656,-648.5 181.2656,-692.5 \" stroke=\"#000000\"/>\n",
       "<text fill=\"#000000\" font-family=\"Times,serif\" font-size=\"14.00\" text-anchor=\"middle\" x=\"209.1001\" y=\"-677.3\">input:</text>\n",
       "<polyline fill=\"none\" points=\"181.2656,-670.5 236.9346,-670.5 \" stroke=\"#000000\"/>\n",
       "<text fill=\"#000000\" font-family=\"Times,serif\" font-size=\"14.00\" text-anchor=\"middle\" x=\"209.1001\" y=\"-655.3\">output:</text>\n",
       "<polyline fill=\"none\" points=\"236.9346,-648.5 236.9346,-692.5 \" stroke=\"#000000\"/>\n",
       "<text fill=\"#000000\" font-family=\"Times,serif\" font-size=\"14.00\" text-anchor=\"middle\" x=\"299.7588\" y=\"-677.3\">(None, 50, 25, 128)</text>\n",
       "<polyline fill=\"none\" points=\"236.9346,-670.5 362.583,-670.5 \" stroke=\"#000000\"/>\n",
       "<text fill=\"#000000\" font-family=\"Times,serif\" font-size=\"14.00\" text-anchor=\"middle\" x=\"299.7588\" y=\"-655.3\">(None, 50, 25, 128)</text>\n",
       "</g>\n",
       "<!-- 4673434960&#45;&gt;4673653560 -->\n",
       "<g class=\"edge\" id=\"edge6\">\n",
       "<title>4673434960-&gt;4673653560</title>\n",
       "<path d=\"M196.4639,-729.3664C196.4639,-721.1516 196.4639,-711.6579 196.4639,-702.7252\" fill=\"none\" stroke=\"#000000\"/>\n",
       "<polygon fill=\"#000000\" points=\"199.964,-702.6068 196.4639,-692.6068 192.964,-702.6069 199.964,-702.6068\" stroke=\"#000000\"/>\n",
       "</g>\n",
       "<!-- 4673983376 -->\n",
       "<g class=\"node\" id=\"node8\">\n",
       "<title>4673983376</title>\n",
       "<polygon fill=\"none\" points=\"0,-567.5 0,-611.5 392.9277,-611.5 392.9277,-567.5 0,-567.5\" stroke=\"#000000\"/>\n",
       "<text fill=\"#000000\" font-family=\"Times,serif\" font-size=\"14.00\" text-anchor=\"middle\" x=\"105.8052\" y=\"-585.3\">max_pooling2d_2: MaxPooling2D</text>\n",
       "<polyline fill=\"none\" points=\"211.6104,-567.5 211.6104,-611.5 \" stroke=\"#000000\"/>\n",
       "<text fill=\"#000000\" font-family=\"Times,serif\" font-size=\"14.00\" text-anchor=\"middle\" x=\"239.4448\" y=\"-596.3\">input:</text>\n",
       "<polyline fill=\"none\" points=\"211.6104,-589.5 267.2793,-589.5 \" stroke=\"#000000\"/>\n",
       "<text fill=\"#000000\" font-family=\"Times,serif\" font-size=\"14.00\" text-anchor=\"middle\" x=\"239.4448\" y=\"-574.3\">output:</text>\n",
       "<polyline fill=\"none\" points=\"267.2793,-567.5 267.2793,-611.5 \" stroke=\"#000000\"/>\n",
       "<text fill=\"#000000\" font-family=\"Times,serif\" font-size=\"14.00\" text-anchor=\"middle\" x=\"330.1035\" y=\"-596.3\">(None, 50, 25, 128)</text>\n",
       "<polyline fill=\"none\" points=\"267.2793,-589.5 392.9277,-589.5 \" stroke=\"#000000\"/>\n",
       "<text fill=\"#000000\" font-family=\"Times,serif\" font-size=\"14.00\" text-anchor=\"middle\" x=\"330.1035\" y=\"-574.3\">(None, 25, 12, 128)</text>\n",
       "</g>\n",
       "<!-- 4673653560&#45;&gt;4673983376 -->\n",
       "<g class=\"edge\" id=\"edge7\">\n",
       "<title>4673653560-&gt;4673983376</title>\n",
       "<path d=\"M196.4639,-648.3664C196.4639,-640.1516 196.4639,-630.6579 196.4639,-621.7252\" fill=\"none\" stroke=\"#000000\"/>\n",
       "<polygon fill=\"#000000\" points=\"199.964,-621.6068 196.4639,-611.6068 192.964,-621.6069 199.964,-621.6068\" stroke=\"#000000\"/>\n",
       "</g>\n",
       "<!-- 4673435688 -->\n",
       "<g class=\"node\" id=\"node9\">\n",
       "<title>4673435688</title>\n",
       "<polygon fill=\"none\" points=\"42.0034,-486.5 42.0034,-530.5 350.9243,-530.5 350.9243,-486.5 42.0034,-486.5\" stroke=\"#000000\"/>\n",
       "<text fill=\"#000000\" font-family=\"Times,serif\" font-size=\"14.00\" text-anchor=\"middle\" x=\"105.8052\" y=\"-504.3\">dropout_2: Dropout</text>\n",
       "<polyline fill=\"none\" points=\"169.6069,-486.5 169.6069,-530.5 \" stroke=\"#000000\"/>\n",
       "<text fill=\"#000000\" font-family=\"Times,serif\" font-size=\"14.00\" text-anchor=\"middle\" x=\"197.4414\" y=\"-515.3\">input:</text>\n",
       "<polyline fill=\"none\" points=\"169.6069,-508.5 225.2759,-508.5 \" stroke=\"#000000\"/>\n",
       "<text fill=\"#000000\" font-family=\"Times,serif\" font-size=\"14.00\" text-anchor=\"middle\" x=\"197.4414\" y=\"-493.3\">output:</text>\n",
       "<polyline fill=\"none\" points=\"225.2759,-486.5 225.2759,-530.5 \" stroke=\"#000000\"/>\n",
       "<text fill=\"#000000\" font-family=\"Times,serif\" font-size=\"14.00\" text-anchor=\"middle\" x=\"288.1001\" y=\"-515.3\">(None, 25, 12, 128)</text>\n",
       "<polyline fill=\"none\" points=\"225.2759,-508.5 350.9243,-508.5 \" stroke=\"#000000\"/>\n",
       "<text fill=\"#000000\" font-family=\"Times,serif\" font-size=\"14.00\" text-anchor=\"middle\" x=\"288.1001\" y=\"-493.3\">(None, 25, 12, 128)</text>\n",
       "</g>\n",
       "<!-- 4673983376&#45;&gt;4673435688 -->\n",
       "<g class=\"edge\" id=\"edge8\">\n",
       "<title>4673983376-&gt;4673435688</title>\n",
       "<path d=\"M196.4639,-567.3664C196.4639,-559.1516 196.4639,-549.6579 196.4639,-540.7252\" fill=\"none\" stroke=\"#000000\"/>\n",
       "<polygon fill=\"#000000\" points=\"199.964,-540.6068 196.4639,-530.6068 192.964,-540.6069 199.964,-540.6068\" stroke=\"#000000\"/>\n",
       "</g>\n",
       "<!-- 4674313912 -->\n",
       "<g class=\"node\" id=\"node10\">\n",
       "<title>4674313912</title>\n",
       "<polygon fill=\"none\" points=\"50.1724,-405.5 50.1724,-449.5 342.7554,-449.5 342.7554,-405.5 50.1724,-405.5\" stroke=\"#000000\"/>\n",
       "<text fill=\"#000000\" font-family=\"Times,serif\" font-size=\"14.00\" text-anchor=\"middle\" x=\"105.8052\" y=\"-423.3\">flatten_1: Flatten</text>\n",
       "<polyline fill=\"none\" points=\"161.438,-405.5 161.438,-449.5 \" stroke=\"#000000\"/>\n",
       "<text fill=\"#000000\" font-family=\"Times,serif\" font-size=\"14.00\" text-anchor=\"middle\" x=\"189.2725\" y=\"-434.3\">input:</text>\n",
       "<polyline fill=\"none\" points=\"161.438,-427.5 217.1069,-427.5 \" stroke=\"#000000\"/>\n",
       "<text fill=\"#000000\" font-family=\"Times,serif\" font-size=\"14.00\" text-anchor=\"middle\" x=\"189.2725\" y=\"-412.3\">output:</text>\n",
       "<polyline fill=\"none\" points=\"217.1069,-405.5 217.1069,-449.5 \" stroke=\"#000000\"/>\n",
       "<text fill=\"#000000\" font-family=\"Times,serif\" font-size=\"14.00\" text-anchor=\"middle\" x=\"279.9312\" y=\"-434.3\">(None, 25, 12, 128)</text>\n",
       "<polyline fill=\"none\" points=\"217.1069,-427.5 342.7554,-427.5 \" stroke=\"#000000\"/>\n",
       "<text fill=\"#000000\" font-family=\"Times,serif\" font-size=\"14.00\" text-anchor=\"middle\" x=\"279.9312\" y=\"-412.3\">(None, 38400)</text>\n",
       "</g>\n",
       "<!-- 4673435688&#45;&gt;4674313912 -->\n",
       "<g class=\"edge\" id=\"edge9\">\n",
       "<title>4673435688-&gt;4674313912</title>\n",
       "<path d=\"M196.4639,-486.3664C196.4639,-478.1516 196.4639,-468.6579 196.4639,-459.7252\" fill=\"none\" stroke=\"#000000\"/>\n",
       "<polygon fill=\"#000000\" points=\"199.964,-459.6068 196.4639,-449.6068 192.964,-459.6069 199.964,-459.6068\" stroke=\"#000000\"/>\n",
       "</g>\n",
       "<!-- 4674313744 -->\n",
       "<g class=\"node\" id=\"node11\">\n",
       "<title>4674313744</title>\n",
       "<polygon fill=\"none\" points=\"67.6792,-324.5 67.6792,-368.5 325.2485,-368.5 325.2485,-324.5 67.6792,-324.5\" stroke=\"#000000\"/>\n",
       "<text fill=\"#000000\" font-family=\"Times,serif\" font-size=\"14.00\" text-anchor=\"middle\" x=\"119.8052\" y=\"-342.3\">dense_1: Dense</text>\n",
       "<polyline fill=\"none\" points=\"171.9312,-324.5 171.9312,-368.5 \" stroke=\"#000000\"/>\n",
       "<text fill=\"#000000\" font-family=\"Times,serif\" font-size=\"14.00\" text-anchor=\"middle\" x=\"199.7656\" y=\"-353.3\">input:</text>\n",
       "<polyline fill=\"none\" points=\"171.9312,-346.5 227.6001,-346.5 \" stroke=\"#000000\"/>\n",
       "<text fill=\"#000000\" font-family=\"Times,serif\" font-size=\"14.00\" text-anchor=\"middle\" x=\"199.7656\" y=\"-331.3\">output:</text>\n",
       "<polyline fill=\"none\" points=\"227.6001,-324.5 227.6001,-368.5 \" stroke=\"#000000\"/>\n",
       "<text fill=\"#000000\" font-family=\"Times,serif\" font-size=\"14.00\" text-anchor=\"middle\" x=\"276.4243\" y=\"-353.3\">(None, 38400)</text>\n",
       "<polyline fill=\"none\" points=\"227.6001,-346.5 325.2485,-346.5 \" stroke=\"#000000\"/>\n",
       "<text fill=\"#000000\" font-family=\"Times,serif\" font-size=\"14.00\" text-anchor=\"middle\" x=\"276.4243\" y=\"-331.3\">(None, 512)</text>\n",
       "</g>\n",
       "<!-- 4674313912&#45;&gt;4674313744 -->\n",
       "<g class=\"edge\" id=\"edge10\">\n",
       "<title>4674313912-&gt;4674313744</title>\n",
       "<path d=\"M196.4639,-405.3664C196.4639,-397.1516 196.4639,-387.6579 196.4639,-378.7252\" fill=\"none\" stroke=\"#000000\"/>\n",
       "<polygon fill=\"#000000\" points=\"199.964,-378.6068 196.4639,-368.6068 192.964,-378.6069 199.964,-378.6068\" stroke=\"#000000\"/>\n",
       "</g>\n",
       "<!-- 4674124992 -->\n",
       "<g class=\"node\" id=\"node12\">\n",
       "<title>4674124992</title>\n",
       "<polygon fill=\"none\" points=\"51.3447,-243.5 51.3447,-287.5 341.583,-287.5 341.583,-243.5 51.3447,-243.5\" stroke=\"#000000\"/>\n",
       "<text fill=\"#000000\" font-family=\"Times,serif\" font-size=\"14.00\" text-anchor=\"middle\" x=\"126.8052\" y=\"-261.3\">activation_3: Activation</text>\n",
       "<polyline fill=\"none\" points=\"202.2656,-243.5 202.2656,-287.5 \" stroke=\"#000000\"/>\n",
       "<text fill=\"#000000\" font-family=\"Times,serif\" font-size=\"14.00\" text-anchor=\"middle\" x=\"230.1001\" y=\"-272.3\">input:</text>\n",
       "<polyline fill=\"none\" points=\"202.2656,-265.5 257.9346,-265.5 \" stroke=\"#000000\"/>\n",
       "<text fill=\"#000000\" font-family=\"Times,serif\" font-size=\"14.00\" text-anchor=\"middle\" x=\"230.1001\" y=\"-250.3\">output:</text>\n",
       "<polyline fill=\"none\" points=\"257.9346,-243.5 257.9346,-287.5 \" stroke=\"#000000\"/>\n",
       "<text fill=\"#000000\" font-family=\"Times,serif\" font-size=\"14.00\" text-anchor=\"middle\" x=\"299.7588\" y=\"-272.3\">(None, 512)</text>\n",
       "<polyline fill=\"none\" points=\"257.9346,-265.5 341.583,-265.5 \" stroke=\"#000000\"/>\n",
       "<text fill=\"#000000\" font-family=\"Times,serif\" font-size=\"14.00\" text-anchor=\"middle\" x=\"299.7588\" y=\"-250.3\">(None, 512)</text>\n",
       "</g>\n",
       "<!-- 4674313744&#45;&gt;4674124992 -->\n",
       "<g class=\"edge\" id=\"edge11\">\n",
       "<title>4674313744-&gt;4674124992</title>\n",
       "<path d=\"M196.4639,-324.3664C196.4639,-316.1516 196.4639,-306.6579 196.4639,-297.7252\" fill=\"none\" stroke=\"#000000\"/>\n",
       "<polygon fill=\"#000000\" points=\"199.964,-297.6068 196.4639,-287.6068 192.964,-297.6069 199.964,-297.6068\" stroke=\"#000000\"/>\n",
       "</g>\n",
       "<!-- 4674695120 -->\n",
       "<g class=\"node\" id=\"node13\">\n",
       "<title>4674695120</title>\n",
       "<polygon fill=\"none\" points=\"63.0034,-162.5 63.0034,-206.5 329.9243,-206.5 329.9243,-162.5 63.0034,-162.5\" stroke=\"#000000\"/>\n",
       "<text fill=\"#000000\" font-family=\"Times,serif\" font-size=\"14.00\" text-anchor=\"middle\" x=\"126.8052\" y=\"-180.3\">dropout_3: Dropout</text>\n",
       "<polyline fill=\"none\" points=\"190.6069,-162.5 190.6069,-206.5 \" stroke=\"#000000\"/>\n",
       "<text fill=\"#000000\" font-family=\"Times,serif\" font-size=\"14.00\" text-anchor=\"middle\" x=\"218.4414\" y=\"-191.3\">input:</text>\n",
       "<polyline fill=\"none\" points=\"190.6069,-184.5 246.2759,-184.5 \" stroke=\"#000000\"/>\n",
       "<text fill=\"#000000\" font-family=\"Times,serif\" font-size=\"14.00\" text-anchor=\"middle\" x=\"218.4414\" y=\"-169.3\">output:</text>\n",
       "<polyline fill=\"none\" points=\"246.2759,-162.5 246.2759,-206.5 \" stroke=\"#000000\"/>\n",
       "<text fill=\"#000000\" font-family=\"Times,serif\" font-size=\"14.00\" text-anchor=\"middle\" x=\"288.1001\" y=\"-191.3\">(None, 512)</text>\n",
       "<polyline fill=\"none\" points=\"246.2759,-184.5 329.9243,-184.5 \" stroke=\"#000000\"/>\n",
       "<text fill=\"#000000\" font-family=\"Times,serif\" font-size=\"14.00\" text-anchor=\"middle\" x=\"288.1001\" y=\"-169.3\">(None, 512)</text>\n",
       "</g>\n",
       "<!-- 4674124992&#45;&gt;4674695120 -->\n",
       "<g class=\"edge\" id=\"edge12\">\n",
       "<title>4674124992-&gt;4674695120</title>\n",
       "<path d=\"M196.4639,-243.3664C196.4639,-235.1516 196.4639,-225.6579 196.4639,-216.7252\" fill=\"none\" stroke=\"#000000\"/>\n",
       "<polygon fill=\"#000000\" points=\"199.964,-216.6068 196.4639,-206.6068 192.964,-216.6069 199.964,-216.6068\" stroke=\"#000000\"/>\n",
       "</g>\n",
       "<!-- 4673252712 -->\n",
       "<g class=\"node\" id=\"node14\">\n",
       "<title>4673252712</title>\n",
       "<polygon fill=\"none\" points=\"74.6792,-81.5 74.6792,-125.5 318.2485,-125.5 318.2485,-81.5 74.6792,-81.5\" stroke=\"#000000\"/>\n",
       "<text fill=\"#000000\" font-family=\"Times,serif\" font-size=\"14.00\" text-anchor=\"middle\" x=\"126.8052\" y=\"-99.3\">dense_2: Dense</text>\n",
       "<polyline fill=\"none\" points=\"178.9312,-81.5 178.9312,-125.5 \" stroke=\"#000000\"/>\n",
       "<text fill=\"#000000\" font-family=\"Times,serif\" font-size=\"14.00\" text-anchor=\"middle\" x=\"206.7656\" y=\"-110.3\">input:</text>\n",
       "<polyline fill=\"none\" points=\"178.9312,-103.5 234.6001,-103.5 \" stroke=\"#000000\"/>\n",
       "<text fill=\"#000000\" font-family=\"Times,serif\" font-size=\"14.00\" text-anchor=\"middle\" x=\"206.7656\" y=\"-88.3\">output:</text>\n",
       "<polyline fill=\"none\" points=\"234.6001,-81.5 234.6001,-125.5 \" stroke=\"#000000\"/>\n",
       "<text fill=\"#000000\" font-family=\"Times,serif\" font-size=\"14.00\" text-anchor=\"middle\" x=\"276.4243\" y=\"-110.3\">(None, 512)</text>\n",
       "<polyline fill=\"none\" points=\"234.6001,-103.5 318.2485,-103.5 \" stroke=\"#000000\"/>\n",
       "<text fill=\"#000000\" font-family=\"Times,serif\" font-size=\"14.00\" text-anchor=\"middle\" x=\"276.4243\" y=\"-88.3\">(None, 5)</text>\n",
       "</g>\n",
       "<!-- 4674695120&#45;&gt;4673252712 -->\n",
       "<g class=\"edge\" id=\"edge13\">\n",
       "<title>4674695120-&gt;4673252712</title>\n",
       "<path d=\"M196.4639,-162.3664C196.4639,-154.1516 196.4639,-144.6579 196.4639,-135.7252\" fill=\"none\" stroke=\"#000000\"/>\n",
       "<polygon fill=\"#000000\" points=\"199.964,-135.6068 196.4639,-125.6068 192.964,-135.6069 199.964,-135.6068\" stroke=\"#000000\"/>\n",
       "</g>\n",
       "<!-- 4673252600 -->\n",
       "<g class=\"node\" id=\"node15\">\n",
       "<title>4673252600</title>\n",
       "<polygon fill=\"none\" points=\"58.3447,-.5 58.3447,-44.5 334.583,-44.5 334.583,-.5 58.3447,-.5\" stroke=\"#000000\"/>\n",
       "<text fill=\"#000000\" font-family=\"Times,serif\" font-size=\"14.00\" text-anchor=\"middle\" x=\"133.8052\" y=\"-18.3\">activation_4: Activation</text>\n",
       "<polyline fill=\"none\" points=\"209.2656,-.5 209.2656,-44.5 \" stroke=\"#000000\"/>\n",
       "<text fill=\"#000000\" font-family=\"Times,serif\" font-size=\"14.00\" text-anchor=\"middle\" x=\"237.1001\" y=\"-29.3\">input:</text>\n",
       "<polyline fill=\"none\" points=\"209.2656,-22.5 264.9346,-22.5 \" stroke=\"#000000\"/>\n",
       "<text fill=\"#000000\" font-family=\"Times,serif\" font-size=\"14.00\" text-anchor=\"middle\" x=\"237.1001\" y=\"-7.3\">output:</text>\n",
       "<polyline fill=\"none\" points=\"264.9346,-.5 264.9346,-44.5 \" stroke=\"#000000\"/>\n",
       "<text fill=\"#000000\" font-family=\"Times,serif\" font-size=\"14.00\" text-anchor=\"middle\" x=\"299.7588\" y=\"-29.3\">(None, 5)</text>\n",
       "<polyline fill=\"none\" points=\"264.9346,-22.5 334.583,-22.5 \" stroke=\"#000000\"/>\n",
       "<text fill=\"#000000\" font-family=\"Times,serif\" font-size=\"14.00\" text-anchor=\"middle\" x=\"299.7588\" y=\"-7.3\">(None, 5)</text>\n",
       "</g>\n",
       "<!-- 4673252712&#45;&gt;4673252600 -->\n",
       "<g class=\"edge\" id=\"edge14\">\n",
       "<title>4673252712-&gt;4673252600</title>\n",
       "<path d=\"M196.4639,-81.3664C196.4639,-73.1516 196.4639,-63.6579 196.4639,-54.7252\" fill=\"none\" stroke=\"#000000\"/>\n",
       "<polygon fill=\"#000000\" points=\"199.964,-54.6068 196.4639,-44.6068 192.964,-54.6069 199.964,-54.6068\" stroke=\"#000000\"/>\n",
       "</g>\n",
       "</g>\n",
       "</svg>"
      ],
      "text/plain": [
       "<IPython.core.display.SVG object>"
      ]
     },
     "execution_count": 16,
     "metadata": {},
     "output_type": "execute_result"
    }
   ],
   "source": [
    "SVG(model_to_dot(model, show_shapes=True).create(prog='dot', format='svg'))"
   ]
  },
  {
   "cell_type": "code",
   "execution_count": 17,
   "metadata": {},
   "outputs": [
    {
     "name": "stdout",
     "output_type": "stream",
     "text": [
      "_________________________________________________________________\n",
      "Layer (type)                 Output Shape              Param #   \n",
      "=================================================================\n",
      "conv2d_1 (Conv2D)            (None, 100, 50, 64)       640       \n",
      "_________________________________________________________________\n",
      "activation_1 (Activation)    (None, 100, 50, 64)       0         \n",
      "_________________________________________________________________\n",
      "max_pooling2d_1 (MaxPooling2 (None, 50, 25, 64)        0         \n",
      "_________________________________________________________________\n",
      "dropout_1 (Dropout)          (None, 50, 25, 64)        0         \n",
      "_________________________________________________________________\n",
      "conv2d_2 (Conv2D)            (None, 50, 25, 128)       73856     \n",
      "_________________________________________________________________\n",
      "activation_2 (Activation)    (None, 50, 25, 128)       0         \n",
      "_________________________________________________________________\n",
      "max_pooling2d_2 (MaxPooling2 (None, 25, 12, 128)       0         \n",
      "_________________________________________________________________\n",
      "dropout_2 (Dropout)          (None, 25, 12, 128)       0         \n",
      "_________________________________________________________________\n",
      "flatten_1 (Flatten)          (None, 38400)             0         \n",
      "_________________________________________________________________\n",
      "dense_1 (Dense)              (None, 512)               19661312  \n",
      "_________________________________________________________________\n",
      "activation_3 (Activation)    (None, 512)               0         \n",
      "_________________________________________________________________\n",
      "dropout_3 (Dropout)          (None, 512)               0         \n",
      "_________________________________________________________________\n",
      "dense_2 (Dense)              (None, 5)                 2565      \n",
      "_________________________________________________________________\n",
      "activation_4 (Activation)    (None, 5)                 0         \n",
      "=================================================================\n",
      "Total params: 19,738,373\n",
      "Trainable params: 19,738,373\n",
      "Non-trainable params: 0\n",
      "_________________________________________________________________\n"
     ]
    }
   ],
   "source": [
    "model.summary()"
   ]
  },
  {
   "cell_type": "code",
   "execution_count": 19,
   "metadata": {
    "collapsed": true
   },
   "outputs": [],
   "source": [
    "run_count = 0"
   ]
  },
  {
   "cell_type": "code",
   "execution_count": 21,
   "metadata": {},
   "outputs": [
    {
     "name": "stdout",
     "output_type": "stream",
     "text": [
      "INFO:tensorflow:Summary name conv2d_1/kernel:0 is illegal; using conv2d_1/kernel_0 instead.\n",
      "INFO:tensorflow:Summary name conv2d_1/kernel:0 is illegal; using conv2d_1/kernel_0 instead.\n",
      "INFO:tensorflow:Summary name conv2d_1/bias:0 is illegal; using conv2d_1/bias_0 instead.\n",
      "INFO:tensorflow:Summary name conv2d_1/bias:0 is illegal; using conv2d_1/bias_0 instead.\n",
      "INFO:tensorflow:Summary name conv2d_2/kernel:0 is illegal; using conv2d_2/kernel_0 instead.\n",
      "INFO:tensorflow:Summary name conv2d_2/bias:0 is illegal; using conv2d_2/bias_0 instead.\n",
      "INFO:tensorflow:Summary name conv2d_2/bias:0 is illegal; using conv2d_2/bias_0 instead.\n",
      "INFO:tensorflow:Summary name dense_1/kernel:0 is illegal; using dense_1/kernel_0 instead.\n",
      "INFO:tensorflow:Summary name dense_1/kernel:0 is illegal; using dense_1/kernel_0 instead.\n",
      "INFO:tensorflow:Summary name dense_1/bias:0 is illegal; using dense_1/bias_0 instead.\n",
      "INFO:tensorflow:Summary name dense_1/bias:0 is illegal; using dense_1/bias_0 instead.\n",
      "INFO:tensorflow:Summary name dense_2/kernel:0 is illegal; using dense_2/kernel_0 instead.\n",
      "INFO:tensorflow:Summary name dense_2/kernel:0 is illegal; using dense_2/kernel_0 instead.\n",
      "INFO:tensorflow:Summary name dense_2/bias:0 is illegal; using dense_2/bias_0 instead.\n",
      "INFO:tensorflow:Summary name dense_2/bias:0 is illegal; using dense_2/bias_0 instead.\n",
      "Epoch 1/120\n",
      "12/12 [==============================] - 11s - loss: 487.8634 - acc: 0.3879 - val_loss: 503.3220 - val_acc: 0.4167\n",
      "Epoch 2/120\n",
      "12/12 [==============================] - 10s - loss: 425.5719 - acc: 0.4379 - val_loss: 457.3803 - val_acc: 0.5441\n",
      "Epoch 3/120\n",
      "12/12 [==============================] - 10s - loss: 404.9179 - acc: 0.5004 - val_loss: 386.5409 - val_acc: 0.5000\n",
      "Epoch 4/120\n",
      "12/12 [==============================] - 11s - loss: 366.0260 - acc: 0.5422 - val_loss: 324.2314 - val_acc: 0.4853\n",
      "Epoch 5/120\n",
      "12/12 [==============================] - 11s - loss: 353.4734 - acc: 0.5987 - val_loss: 345.5023 - val_acc: 0.4706\n",
      "Epoch 6/120\n",
      "12/12 [==============================] - 12s - loss: 321.8716 - acc: 0.5808 - val_loss: 340.1657 - val_acc: 0.5417\n",
      "Epoch 7/120\n",
      "12/12 [==============================] - 12s - loss: 292.1155 - acc: 0.6304 - val_loss: 269.5915 - val_acc: 0.5294\n",
      "Epoch 8/120\n",
      "12/12 [==============================] - 11s - loss: 286.5915 - acc: 0.6354 - val_loss: 288.3922 - val_acc: 0.5735\n",
      "Epoch 9/120\n",
      "12/12 [==============================] - 11s - loss: 251.1892 - acc: 0.6124 - val_loss: 253.1070 - val_acc: 0.6324\n",
      "Epoch 10/120\n",
      "12/12 [==============================] - 11s - loss: 235.8615 - acc: 0.6515 - val_loss: 246.2173 - val_acc: 0.6354\n",
      "Epoch 11/120\n",
      "12/12 [==============================] - 11s - loss: 213.7038 - acc: 0.6294 - val_loss: 216.4760 - val_acc: 0.6324\n",
      "Epoch 12/120\n",
      "12/12 [==============================] - 11s - loss: 200.6431 - acc: 0.6535 - val_loss: 200.0955 - val_acc: 0.6618\n",
      "Epoch 13/120\n",
      "12/12 [==============================] - 11s - loss: 183.1135 - acc: 0.6592 - val_loss: 183.9123 - val_acc: 0.5735\n",
      "Epoch 14/120\n",
      "12/12 [==============================] - 11s - loss: 177.1150 - acc: 0.6644 - val_loss: 182.0908 - val_acc: 0.6042\n",
      "Epoch 15/120\n",
      "12/12 [==============================] - 11s - loss: 161.3688 - acc: 0.6300 - val_loss: 160.4932 - val_acc: 0.5588\n",
      "Epoch 16/120\n",
      "12/12 [==============================] - 11s - loss: 151.4422 - acc: 0.6927 - val_loss: 157.0615 - val_acc: 0.6176\n",
      "Epoch 17/120\n",
      "12/12 [==============================] - 11s - loss: 143.6566 - acc: 0.6483 - val_loss: 145.0255 - val_acc: 0.6324\n",
      "Epoch 18/120\n",
      "12/12 [==============================] - 11s - loss: 135.9250 - acc: 0.6980 - val_loss: 145.9758 - val_acc: 0.6458\n",
      "Epoch 19/120\n",
      "12/12 [==============================] - 11s - loss: 128.8515 - acc: 0.6929 - val_loss: 127.4058 - val_acc: 0.6324\n",
      "Epoch 20/120\n",
      "12/12 [==============================] - 12s - loss: 119.5834 - acc: 0.7036 - val_loss: 121.6892 - val_acc: 0.7206\n",
      "Epoch 21/120\n",
      "12/12 [==============================] - 11s - loss: 118.8190 - acc: 0.7161 - val_loss: 121.0611 - val_acc: 0.6324\n",
      "Epoch 22/120\n",
      "12/12 [==============================] - 11s - loss: 110.9408 - acc: 0.6977 - val_loss: 117.7469 - val_acc: 0.6458\n",
      "Epoch 23/120\n",
      "12/12 [==============================] - 11s - loss: 103.3774 - acc: 0.7108 - val_loss: 109.8626 - val_acc: 0.6618\n",
      "Epoch 24/120\n",
      "12/12 [==============================] - 11s - loss: 98.7466 - acc: 0.7189 - val_loss: 95.8373 - val_acc: 0.6618\n",
      "Epoch 25/120\n",
      "12/12 [==============================] - 11s - loss: 93.3549 - acc: 0.6742 - val_loss: 95.7317 - val_acc: 0.6324\n",
      "Epoch 26/120\n",
      "12/12 [==============================] - 11s - loss: 88.3621 - acc: 0.7448 - val_loss: 96.6021 - val_acc: 0.6979\n",
      "Epoch 27/120\n",
      "12/12 [==============================] - 11s - loss: 87.0719 - acc: 0.7317 - val_loss: 92.0815 - val_acc: 0.7353\n",
      "Epoch 28/120\n",
      "12/12 [==============================] - 11s - loss: 81.6982 - acc: 0.6977 - val_loss: 85.9402 - val_acc: 0.6912\n",
      "Epoch 29/120\n",
      "12/12 [==============================] - 11s - loss: 77.7089 - acc: 0.7452 - val_loss: 84.3973 - val_acc: 0.6324\n",
      "Epoch 30/120\n",
      "12/12 [==============================] - 11s - loss: 76.5259 - acc: 0.7267 - val_loss: 80.1807 - val_acc: 0.7059\n",
      "Epoch 31/120\n",
      "12/12 [==============================] - 11s - loss: 72.6538 - acc: 0.7422 - val_loss: 79.9289 - val_acc: 0.6979\n",
      "Epoch 32/120\n",
      "12/12 [==============================] - 11s - loss: 70.0562 - acc: 0.7395 - val_loss: 72.8702 - val_acc: 0.6618\n",
      "Epoch 33/120\n",
      "12/12 [==============================] - 11s - loss: 67.6157 - acc: 0.7526 - val_loss: 70.5338 - val_acc: 0.6618\n",
      "Epoch 34/120\n",
      "12/12 [==============================] - 11s - loss: 69.3460 - acc: 0.7318 - val_loss: 70.1105 - val_acc: 0.7206\n",
      "Epoch 35/120\n",
      "12/12 [==============================] - 12s - loss: 63.6469 - acc: 0.7237 - val_loss: 70.8251 - val_acc: 0.7083\n",
      "Epoch 36/120\n",
      "12/12 [==============================] - 11s - loss: 62.5290 - acc: 0.7420 - val_loss: 63.7673 - val_acc: 0.7353\n",
      "Epoch 37/120\n",
      "12/12 [==============================] - 11s - loss: 61.9411 - acc: 0.7703 - val_loss: 64.9707 - val_acc: 0.7794\n",
      "Epoch 38/120\n",
      "12/12 [==============================] - 11s - loss: 59.1216 - acc: 0.7651 - val_loss: 64.8005 - val_acc: 0.7059\n",
      "Epoch 39/120\n",
      "12/12 [==============================] - 11s - loss: 58.1541 - acc: 0.7167 - val_loss: 64.1187 - val_acc: 0.7188\n",
      "Epoch 40/120\n",
      "12/12 [==============================] - 11s - loss: 56.5921 - acc: 0.7496 - val_loss: 62.0746 - val_acc: 0.7059\n",
      "Epoch 41/120\n",
      "12/12 [==============================] - 11s - loss: 56.3486 - acc: 0.7269 - val_loss: 58.9157 - val_acc: 0.7206\n",
      "Epoch 42/120\n",
      "12/12 [==============================] - 11s - loss: 55.8110 - acc: 0.7030 - val_loss: 60.2903 - val_acc: 0.7500\n",
      "Epoch 43/120\n",
      "12/12 [==============================] - 11s - loss: 53.5070 - acc: 0.7446 - val_loss: 59.3690 - val_acc: 0.7604\n",
      "Epoch 44/120\n",
      "12/12 [==============================] - 12s - loss: 53.1200 - acc: 0.7263 - val_loss: 55.2540 - val_acc: 0.7059\n",
      "Epoch 45/120\n",
      "12/12 [==============================] - 11s - loss: 52.2821 - acc: 0.7444 - val_loss: 54.9571 - val_acc: 0.7647\n",
      "Epoch 46/120\n",
      "12/12 [==============================] - 11s - loss: 50.4555 - acc: 0.7576 - val_loss: 52.7142 - val_acc: 0.7206\n",
      "Epoch 47/120\n",
      "12/12 [==============================] - 11s - loss: 51.9942 - acc: 0.7474 - val_loss: 52.5731 - val_acc: 0.7206\n",
      "Epoch 48/120\n",
      "12/12 [==============================] - 10s - loss: 49.6161 - acc: 0.7685 - val_loss: 51.2623 - val_acc: 0.7206\n",
      "Epoch 49/120\n",
      "12/12 [==============================] - 10s - loss: 47.4975 - acc: 0.7661 - val_loss: 49.8551 - val_acc: 0.6912\n",
      "Epoch 50/120\n",
      "12/12 [==============================] - 11s - loss: 47.8064 - acc: 0.7446 - val_loss: 52.9269 - val_acc: 0.7188\n",
      "Epoch 51/120\n",
      "12/12 [==============================] - 10s - loss: 46.8758 - acc: 0.7474 - val_loss: 48.0909 - val_acc: 0.6765\n",
      "Epoch 52/120\n",
      "12/12 [==============================] - 11s - loss: 45.2255 - acc: 0.7502 - val_loss: 48.9373 - val_acc: 0.7059\n",
      "Epoch 53/120\n",
      "12/12 [==============================] - 11s - loss: 45.4845 - acc: 0.7424 - val_loss: 48.8612 - val_acc: 0.6912\n",
      "Epoch 54/120\n",
      "12/12 [==============================] - 11s - loss: 45.2531 - acc: 0.7365 - val_loss: 49.4520 - val_acc: 0.7188\n",
      "Epoch 55/120\n",
      "12/12 [==============================] - 11s - loss: 43.6251 - acc: 0.7317 - val_loss: 46.8535 - val_acc: 0.6765\n",
      "Epoch 56/120\n",
      "12/12 [==============================] - 11s - loss: 44.1053 - acc: 0.7526 - val_loss: 46.5449 - val_acc: 0.7206\n",
      "Epoch 57/120\n",
      "12/12 [==============================] - 11s - loss: 42.3695 - acc: 0.7498 - val_loss: 45.9340 - val_acc: 0.7353\n",
      "Epoch 58/120\n",
      "12/12 [==============================] - 11s - loss: 43.0189 - acc: 0.7737 - val_loss: 47.1373 - val_acc: 0.7396\n",
      "Epoch 59/120\n",
      "12/12 [==============================] - 11s - loss: 41.4748 - acc: 0.7038 - val_loss: 44.4741 - val_acc: 0.6765\n",
      "Epoch 60/120\n",
      "12/12 [==============================] - 12s - loss: 43.0763 - acc: 0.7474 - val_loss: 42.6233 - val_acc: 0.7647\n",
      "Epoch 61/120\n",
      "12/12 [==============================] - 12s - loss: 40.5593 - acc: 0.7733 - val_loss: 43.9149 - val_acc: 0.6765\n",
      "Epoch 62/120\n",
      "12/12 [==============================] - 13s - loss: 40.5759 - acc: 0.7524 - val_loss: 45.4547 - val_acc: 0.7083\n",
      "Epoch 63/120\n",
      "12/12 [==============================] - 12s - loss: 40.4581 - acc: 0.7783 - val_loss: 42.7305 - val_acc: 0.6765\n",
      "Epoch 64/120\n",
      "10/12 [========================>.....] - ETA: 1s - loss: 38.5306 - acc: 0.7531"
     ]
    },
    {
     "ename": "KeyboardInterrupt",
     "evalue": "",
     "output_type": "error",
     "traceback": [
      "\u001b[0;31m---------------------------------------------------------------------------\u001b[0m",
      "\u001b[0;31mKeyboardInterrupt\u001b[0m                         Traceback (most recent call last)",
      "\u001b[0;32m<ipython-input-21-c5685858fd74>\u001b[0m in \u001b[0;36m<module>\u001b[0;34m()\u001b[0m\n\u001b[1;32m     10\u001b[0m                    \u001b[0mvalidation_data\u001b[0m\u001b[0;34m=\u001b[0m\u001b[0mtest_generator\u001b[0m\u001b[0;34m,\u001b[0m\u001b[0;34m\u001b[0m\u001b[0m\n\u001b[1;32m     11\u001b[0m                    \u001b[0mvalidation_steps\u001b[0m\u001b[0;34m=\u001b[0m\u001b[0mnb_test_samples\u001b[0m \u001b[0;34m//\u001b[0m \u001b[0mbatch_size\u001b[0m\u001b[0;34m,\u001b[0m\u001b[0;34m\u001b[0m\u001b[0m\n\u001b[0;32m---> 12\u001b[0;31m                    callbacks=[tbCallBack])\n\u001b[0m\u001b[1;32m     13\u001b[0m \u001b[0;34m\u001b[0m\u001b[0m\n\u001b[1;32m     14\u001b[0m \u001b[0mmodel\u001b[0m\u001b[0;34m.\u001b[0m\u001b[0msave_weights\u001b[0m\u001b[0;34m(\u001b[0m\u001b[0;34m'first_try.h5'\u001b[0m\u001b[0;34m)\u001b[0m\u001b[0;34m\u001b[0m\u001b[0m\n",
      "\u001b[0;32m~/virtualenvironment/tensorflow/lib/python3.6/site-packages/keras/legacy/interfaces.py\u001b[0m in \u001b[0;36mwrapper\u001b[0;34m(*args, **kwargs)\u001b[0m\n\u001b[1;32m     86\u001b[0m                 warnings.warn('Update your `' + object_name +\n\u001b[1;32m     87\u001b[0m                               '` call to the Keras 2 API: ' + signature, stacklevel=2)\n\u001b[0;32m---> 88\u001b[0;31m             \u001b[0;32mreturn\u001b[0m \u001b[0mfunc\u001b[0m\u001b[0;34m(\u001b[0m\u001b[0;34m*\u001b[0m\u001b[0margs\u001b[0m\u001b[0;34m,\u001b[0m \u001b[0;34m**\u001b[0m\u001b[0mkwargs\u001b[0m\u001b[0;34m)\u001b[0m\u001b[0;34m\u001b[0m\u001b[0m\n\u001b[0m\u001b[1;32m     89\u001b[0m         \u001b[0mwrapper\u001b[0m\u001b[0;34m.\u001b[0m\u001b[0m_legacy_support_signature\u001b[0m \u001b[0;34m=\u001b[0m \u001b[0minspect\u001b[0m\u001b[0;34m.\u001b[0m\u001b[0mgetargspec\u001b[0m\u001b[0;34m(\u001b[0m\u001b[0mfunc\u001b[0m\u001b[0;34m)\u001b[0m\u001b[0;34m\u001b[0m\u001b[0m\n\u001b[1;32m     90\u001b[0m         \u001b[0;32mreturn\u001b[0m \u001b[0mwrapper\u001b[0m\u001b[0;34m\u001b[0m\u001b[0m\n",
      "\u001b[0;32m~/virtualenvironment/tensorflow/lib/python3.6/site-packages/keras/models.py\u001b[0m in \u001b[0;36mfit_generator\u001b[0;34m(self, generator, steps_per_epoch, epochs, verbose, callbacks, validation_data, validation_steps, class_weight, max_q_size, workers, pickle_safe, initial_epoch)\u001b[0m\n\u001b[1;32m   1122\u001b[0m                                         \u001b[0mworkers\u001b[0m\u001b[0;34m=\u001b[0m\u001b[0mworkers\u001b[0m\u001b[0;34m,\u001b[0m\u001b[0;34m\u001b[0m\u001b[0m\n\u001b[1;32m   1123\u001b[0m                                         \u001b[0mpickle_safe\u001b[0m\u001b[0;34m=\u001b[0m\u001b[0mpickle_safe\u001b[0m\u001b[0;34m,\u001b[0m\u001b[0;34m\u001b[0m\u001b[0m\n\u001b[0;32m-> 1124\u001b[0;31m                                         initial_epoch=initial_epoch)\n\u001b[0m\u001b[1;32m   1125\u001b[0m \u001b[0;34m\u001b[0m\u001b[0m\n\u001b[1;32m   1126\u001b[0m     \u001b[0;34m@\u001b[0m\u001b[0minterfaces\u001b[0m\u001b[0;34m.\u001b[0m\u001b[0mlegacy_generator_methods_support\u001b[0m\u001b[0;34m\u001b[0m\u001b[0m\n",
      "\u001b[0;32m~/virtualenvironment/tensorflow/lib/python3.6/site-packages/keras/legacy/interfaces.py\u001b[0m in \u001b[0;36mwrapper\u001b[0;34m(*args, **kwargs)\u001b[0m\n\u001b[1;32m     86\u001b[0m                 warnings.warn('Update your `' + object_name +\n\u001b[1;32m     87\u001b[0m                               '` call to the Keras 2 API: ' + signature, stacklevel=2)\n\u001b[0;32m---> 88\u001b[0;31m             \u001b[0;32mreturn\u001b[0m \u001b[0mfunc\u001b[0m\u001b[0;34m(\u001b[0m\u001b[0;34m*\u001b[0m\u001b[0margs\u001b[0m\u001b[0;34m,\u001b[0m \u001b[0;34m**\u001b[0m\u001b[0mkwargs\u001b[0m\u001b[0;34m)\u001b[0m\u001b[0;34m\u001b[0m\u001b[0m\n\u001b[0m\u001b[1;32m     89\u001b[0m         \u001b[0mwrapper\u001b[0m\u001b[0;34m.\u001b[0m\u001b[0m_legacy_support_signature\u001b[0m \u001b[0;34m=\u001b[0m \u001b[0minspect\u001b[0m\u001b[0;34m.\u001b[0m\u001b[0mgetargspec\u001b[0m\u001b[0;34m(\u001b[0m\u001b[0mfunc\u001b[0m\u001b[0;34m)\u001b[0m\u001b[0;34m\u001b[0m\u001b[0m\n\u001b[1;32m     90\u001b[0m         \u001b[0;32mreturn\u001b[0m \u001b[0mwrapper\u001b[0m\u001b[0;34m\u001b[0m\u001b[0m\n",
      "\u001b[0;32m~/virtualenvironment/tensorflow/lib/python3.6/site-packages/keras/engine/training.py\u001b[0m in \u001b[0;36mfit_generator\u001b[0;34m(self, generator, steps_per_epoch, epochs, verbose, callbacks, validation_data, validation_steps, class_weight, max_q_size, workers, pickle_safe, initial_epoch)\u001b[0m\n\u001b[1;32m   1900\u001b[0m                     outs = self.train_on_batch(x, y,\n\u001b[1;32m   1901\u001b[0m                                                \u001b[0msample_weight\u001b[0m\u001b[0;34m=\u001b[0m\u001b[0msample_weight\u001b[0m\u001b[0;34m,\u001b[0m\u001b[0;34m\u001b[0m\u001b[0m\n\u001b[0;32m-> 1902\u001b[0;31m                                                class_weight=class_weight)\n\u001b[0m\u001b[1;32m   1903\u001b[0m \u001b[0;34m\u001b[0m\u001b[0m\n\u001b[1;32m   1904\u001b[0m                     \u001b[0;32mif\u001b[0m \u001b[0;32mnot\u001b[0m \u001b[0misinstance\u001b[0m\u001b[0;34m(\u001b[0m\u001b[0mouts\u001b[0m\u001b[0;34m,\u001b[0m \u001b[0mlist\u001b[0m\u001b[0;34m)\u001b[0m\u001b[0;34m:\u001b[0m\u001b[0;34m\u001b[0m\u001b[0m\n",
      "\u001b[0;32m~/virtualenvironment/tensorflow/lib/python3.6/site-packages/keras/engine/training.py\u001b[0m in \u001b[0;36mtrain_on_batch\u001b[0;34m(self, x, y, sample_weight, class_weight)\u001b[0m\n\u001b[1;32m   1640\u001b[0m             \u001b[0mins\u001b[0m \u001b[0;34m=\u001b[0m \u001b[0mx\u001b[0m \u001b[0;34m+\u001b[0m \u001b[0my\u001b[0m \u001b[0;34m+\u001b[0m \u001b[0msample_weights\u001b[0m\u001b[0;34m\u001b[0m\u001b[0m\n\u001b[1;32m   1641\u001b[0m         \u001b[0mself\u001b[0m\u001b[0;34m.\u001b[0m\u001b[0m_make_train_function\u001b[0m\u001b[0;34m(\u001b[0m\u001b[0;34m)\u001b[0m\u001b[0;34m\u001b[0m\u001b[0m\n\u001b[0;32m-> 1642\u001b[0;31m         \u001b[0moutputs\u001b[0m \u001b[0;34m=\u001b[0m \u001b[0mself\u001b[0m\u001b[0;34m.\u001b[0m\u001b[0mtrain_function\u001b[0m\u001b[0;34m(\u001b[0m\u001b[0mins\u001b[0m\u001b[0;34m)\u001b[0m\u001b[0;34m\u001b[0m\u001b[0m\n\u001b[0m\u001b[1;32m   1643\u001b[0m         \u001b[0;32mif\u001b[0m \u001b[0mlen\u001b[0m\u001b[0;34m(\u001b[0m\u001b[0moutputs\u001b[0m\u001b[0;34m)\u001b[0m \u001b[0;34m==\u001b[0m \u001b[0;36m1\u001b[0m\u001b[0;34m:\u001b[0m\u001b[0;34m\u001b[0m\u001b[0m\n\u001b[1;32m   1644\u001b[0m             \u001b[0;32mreturn\u001b[0m \u001b[0moutputs\u001b[0m\u001b[0;34m[\u001b[0m\u001b[0;36m0\u001b[0m\u001b[0;34m]\u001b[0m\u001b[0;34m\u001b[0m\u001b[0m\n",
      "\u001b[0;32m~/virtualenvironment/tensorflow/lib/python3.6/site-packages/keras/backend/tensorflow_backend.py\u001b[0m in \u001b[0;36m__call__\u001b[0;34m(self, inputs)\u001b[0m\n\u001b[1;32m   2267\u001b[0m         updated = session.run(self.outputs + [self.updates_op],\n\u001b[1;32m   2268\u001b[0m                               \u001b[0mfeed_dict\u001b[0m\u001b[0;34m=\u001b[0m\u001b[0mfeed_dict\u001b[0m\u001b[0;34m,\u001b[0m\u001b[0;34m\u001b[0m\u001b[0m\n\u001b[0;32m-> 2269\u001b[0;31m                               **self.session_kwargs)\n\u001b[0m\u001b[1;32m   2270\u001b[0m         \u001b[0;32mreturn\u001b[0m \u001b[0mupdated\u001b[0m\u001b[0;34m[\u001b[0m\u001b[0;34m:\u001b[0m\u001b[0mlen\u001b[0m\u001b[0;34m(\u001b[0m\u001b[0mself\u001b[0m\u001b[0;34m.\u001b[0m\u001b[0moutputs\u001b[0m\u001b[0;34m)\u001b[0m\u001b[0;34m]\u001b[0m\u001b[0;34m\u001b[0m\u001b[0m\n\u001b[1;32m   2271\u001b[0m \u001b[0;34m\u001b[0m\u001b[0m\n",
      "\u001b[0;32m~/virtualenvironment/tensorflow/lib/python3.6/site-packages/tensorflow/python/client/session.py\u001b[0m in \u001b[0;36mrun\u001b[0;34m(self, fetches, feed_dict, options, run_metadata)\u001b[0m\n\u001b[1;32m    787\u001b[0m     \u001b[0;32mtry\u001b[0m\u001b[0;34m:\u001b[0m\u001b[0;34m\u001b[0m\u001b[0m\n\u001b[1;32m    788\u001b[0m       result = self._run(None, fetches, feed_dict, options_ptr,\n\u001b[0;32m--> 789\u001b[0;31m                          run_metadata_ptr)\n\u001b[0m\u001b[1;32m    790\u001b[0m       \u001b[0;32mif\u001b[0m \u001b[0mrun_metadata\u001b[0m\u001b[0;34m:\u001b[0m\u001b[0;34m\u001b[0m\u001b[0m\n\u001b[1;32m    791\u001b[0m         \u001b[0mproto_data\u001b[0m \u001b[0;34m=\u001b[0m \u001b[0mtf_session\u001b[0m\u001b[0;34m.\u001b[0m\u001b[0mTF_GetBuffer\u001b[0m\u001b[0;34m(\u001b[0m\u001b[0mrun_metadata_ptr\u001b[0m\u001b[0;34m)\u001b[0m\u001b[0;34m\u001b[0m\u001b[0m\n",
      "\u001b[0;32m~/virtualenvironment/tensorflow/lib/python3.6/site-packages/tensorflow/python/client/session.py\u001b[0m in \u001b[0;36m_run\u001b[0;34m(self, handle, fetches, feed_dict, options, run_metadata)\u001b[0m\n\u001b[1;32m    995\u001b[0m     \u001b[0;32mif\u001b[0m \u001b[0mfinal_fetches\u001b[0m \u001b[0;32mor\u001b[0m \u001b[0mfinal_targets\u001b[0m\u001b[0;34m:\u001b[0m\u001b[0;34m\u001b[0m\u001b[0m\n\u001b[1;32m    996\u001b[0m       results = self._do_run(handle, final_targets, final_fetches,\n\u001b[0;32m--> 997\u001b[0;31m                              feed_dict_string, options, run_metadata)\n\u001b[0m\u001b[1;32m    998\u001b[0m     \u001b[0;32melse\u001b[0m\u001b[0;34m:\u001b[0m\u001b[0;34m\u001b[0m\u001b[0m\n\u001b[1;32m    999\u001b[0m       \u001b[0mresults\u001b[0m \u001b[0;34m=\u001b[0m \u001b[0;34m[\u001b[0m\u001b[0;34m]\u001b[0m\u001b[0;34m\u001b[0m\u001b[0m\n",
      "\u001b[0;32m~/virtualenvironment/tensorflow/lib/python3.6/site-packages/tensorflow/python/client/session.py\u001b[0m in \u001b[0;36m_do_run\u001b[0;34m(self, handle, target_list, fetch_list, feed_dict, options, run_metadata)\u001b[0m\n\u001b[1;32m   1130\u001b[0m     \u001b[0;32mif\u001b[0m \u001b[0mhandle\u001b[0m \u001b[0;32mis\u001b[0m \u001b[0;32mNone\u001b[0m\u001b[0;34m:\u001b[0m\u001b[0;34m\u001b[0m\u001b[0m\n\u001b[1;32m   1131\u001b[0m       return self._do_call(_run_fn, self._session, feed_dict, fetch_list,\n\u001b[0;32m-> 1132\u001b[0;31m                            target_list, options, run_metadata)\n\u001b[0m\u001b[1;32m   1133\u001b[0m     \u001b[0;32melse\u001b[0m\u001b[0;34m:\u001b[0m\u001b[0;34m\u001b[0m\u001b[0m\n\u001b[1;32m   1134\u001b[0m       return self._do_call(_prun_fn, self._session, handle, feed_dict,\n",
      "\u001b[0;32m~/virtualenvironment/tensorflow/lib/python3.6/site-packages/tensorflow/python/client/session.py\u001b[0m in \u001b[0;36m_do_call\u001b[0;34m(self, fn, *args)\u001b[0m\n\u001b[1;32m   1137\u001b[0m   \u001b[0;32mdef\u001b[0m \u001b[0m_do_call\u001b[0m\u001b[0;34m(\u001b[0m\u001b[0mself\u001b[0m\u001b[0;34m,\u001b[0m \u001b[0mfn\u001b[0m\u001b[0;34m,\u001b[0m \u001b[0;34m*\u001b[0m\u001b[0margs\u001b[0m\u001b[0;34m)\u001b[0m\u001b[0;34m:\u001b[0m\u001b[0;34m\u001b[0m\u001b[0m\n\u001b[1;32m   1138\u001b[0m     \u001b[0;32mtry\u001b[0m\u001b[0;34m:\u001b[0m\u001b[0;34m\u001b[0m\u001b[0m\n\u001b[0;32m-> 1139\u001b[0;31m       \u001b[0;32mreturn\u001b[0m \u001b[0mfn\u001b[0m\u001b[0;34m(\u001b[0m\u001b[0;34m*\u001b[0m\u001b[0margs\u001b[0m\u001b[0;34m)\u001b[0m\u001b[0;34m\u001b[0m\u001b[0m\n\u001b[0m\u001b[1;32m   1140\u001b[0m     \u001b[0;32mexcept\u001b[0m \u001b[0merrors\u001b[0m\u001b[0;34m.\u001b[0m\u001b[0mOpError\u001b[0m \u001b[0;32mas\u001b[0m \u001b[0me\u001b[0m\u001b[0;34m:\u001b[0m\u001b[0;34m\u001b[0m\u001b[0m\n\u001b[1;32m   1141\u001b[0m       \u001b[0mmessage\u001b[0m \u001b[0;34m=\u001b[0m \u001b[0mcompat\u001b[0m\u001b[0;34m.\u001b[0m\u001b[0mas_text\u001b[0m\u001b[0;34m(\u001b[0m\u001b[0me\u001b[0m\u001b[0;34m.\u001b[0m\u001b[0mmessage\u001b[0m\u001b[0;34m)\u001b[0m\u001b[0;34m\u001b[0m\u001b[0m\n",
      "\u001b[0;32m~/virtualenvironment/tensorflow/lib/python3.6/site-packages/tensorflow/python/client/session.py\u001b[0m in \u001b[0;36m_run_fn\u001b[0;34m(session, feed_dict, fetch_list, target_list, options, run_metadata)\u001b[0m\n\u001b[1;32m   1119\u001b[0m         return tf_session.TF_Run(session, options,\n\u001b[1;32m   1120\u001b[0m                                  \u001b[0mfeed_dict\u001b[0m\u001b[0;34m,\u001b[0m \u001b[0mfetch_list\u001b[0m\u001b[0;34m,\u001b[0m \u001b[0mtarget_list\u001b[0m\u001b[0;34m,\u001b[0m\u001b[0;34m\u001b[0m\u001b[0m\n\u001b[0;32m-> 1121\u001b[0;31m                                  status, run_metadata)\n\u001b[0m\u001b[1;32m   1122\u001b[0m \u001b[0;34m\u001b[0m\u001b[0m\n\u001b[1;32m   1123\u001b[0m     \u001b[0;32mdef\u001b[0m \u001b[0m_prun_fn\u001b[0m\u001b[0;34m(\u001b[0m\u001b[0msession\u001b[0m\u001b[0;34m,\u001b[0m \u001b[0mhandle\u001b[0m\u001b[0;34m,\u001b[0m \u001b[0mfeed_dict\u001b[0m\u001b[0;34m,\u001b[0m \u001b[0mfetch_list\u001b[0m\u001b[0;34m)\u001b[0m\u001b[0;34m:\u001b[0m\u001b[0;34m\u001b[0m\u001b[0m\n",
      "\u001b[0;31mKeyboardInterrupt\u001b[0m: "
     ]
    }
   ],
   "source": [
    "run_count += 1\n",
    "from keras.callbacks import TensorBoard\n",
    "tbCallBack = TensorBoard(log_dir=\"./summary/run_{}\".format(run_count), \n",
    "                         histogram_freq=2, write_graph=True, \n",
    "                         write_images=True)\n",
    "\n",
    "model.fit_generator(train_generator,\n",
    "                   steps_per_epoch=nb_train_samples // batch_size,\n",
    "                   epochs=120,\n",
    "                   validation_data=test_generator,\n",
    "                   validation_steps=nb_test_samples // batch_size,\n",
    "                   callbacks=[tbCallBack])\n",
    "\n",
    "model.save_weights('first_try.h5')\n",
    "model.save('my_model.h5')"
   ]
  },
  {
   "cell_type": "markdown",
   "metadata": {},
   "source": [
    "## Testing to predict to see outcome of the predictions"
   ]
  },
  {
   "cell_type": "code",
   "execution_count": 29,
   "metadata": {
    "collapsed": true
   },
   "outputs": [],
   "source": [
    "import random"
   ]
  },
  {
   "cell_type": "code",
   "execution_count": 31,
   "metadata": {
    "collapsed": true
   },
   "outputs": [],
   "source": [
    "test_data_path = \"data/processed/test/Body\"\n",
    "random_image = random.choice(os.listdir(test_filepath))\n",
    "test__image_filepath = os.path.normpath(os.path.join(proj_dir, test_data_path, random_image))"
   ]
  },
  {
   "cell_type": "code",
   "execution_count": 32,
   "metadata": {
    "scrolled": true
   },
   "outputs": [
    {
     "name": "stdout",
     "output_type": "stream",
     "text": [
      "1/1 [==============================] - 0s\n"
     ]
    },
    {
     "data": {
      "text/plain": [
       "array([[  9.74491298e-01,   1.81158148e-02,   3.50045832e-03,\n",
       "          8.41598317e-04,   3.05083441e-03]], dtype=float32)"
      ]
     },
     "execution_count": 32,
     "metadata": {},
     "output_type": "execute_result"
    }
   ],
   "source": [
    "import scipy.misc\n",
    "proj_dir = os.path.curdir\n",
    "image = scipy.misc.imread(test_image_filepath,mode='L')\n",
    "image = scipy.misc.imresize(image, (100,50))\n",
    "image = image / 255\n",
    "image = np.expand_dims(image, axis=2)\n",
    "\n",
    "model.save('../models/80_mf.h5')\n",
    "image = image.reshape((1,) + image.shape)\n",
    "model.predict_proba(image, verbose=1, batch_size=1)"
   ]
  },
  {
   "cell_type": "code",
   "execution_count": 33,
   "metadata": {},
   "outputs": [
    {
     "data": {
      "text/plain": [
       "array([[  9.74491298e-01,   1.81158148e-02,   3.50045832e-03,\n",
       "          8.41598317e-04,   3.05083441e-03]], dtype=float32)"
      ]
     },
     "execution_count": 33,
     "metadata": {},
     "output_type": "execute_result"
    }
   ],
   "source": [
    "model.predict(image)"
   ]
  },
  {
   "cell_type": "code",
   "execution_count": 34,
   "metadata": {},
   "outputs": [
    {
     "data": {
      "text/plain": [
       "{'Body': 0,\n",
       " 'Head-Neck': 1,\n",
       " 'Lower-Limb': 2,\n",
       " 'True-Negative': 3,\n",
       " 'Upper-Limb': 4}"
      ]
     },
     "execution_count": 34,
     "metadata": {},
     "output_type": "execute_result"
    }
   ],
   "source": [
    "train_generator.class_indices"
   ]
  },
  {
   "cell_type": "code",
   "execution_count": null,
   "metadata": {
    "collapsed": true
   },
   "outputs": [],
   "source": []
  }
 ],
 "metadata": {
  "kernelspec": {
   "display_name": "Python 3",
   "language": "python",
   "name": "python3"
  },
  "language_info": {
   "codemirror_mode": {
    "name": "ipython",
    "version": 3
   },
   "file_extension": ".py",
   "mimetype": "text/x-python",
   "name": "python",
   "nbconvert_exporter": "python",
   "pygments_lexer": "ipython3",
   "version": "3.6.1"
  }
 },
 "nbformat": 4,
 "nbformat_minor": 2
}
