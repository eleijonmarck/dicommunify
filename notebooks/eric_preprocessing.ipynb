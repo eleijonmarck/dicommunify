{
 "cells": [
  {
   "cell_type": "markdown",
   "metadata": {},
   "source": [
    "# Pre-processing - making the dataset "
   ]
  },
  {
   "cell_type": "code",
   "execution_count": 3,
   "metadata": {
    "collapsed": true
   },
   "outputs": [],
   "source": [
    "# -*- coding: utf-8 -*-\n",
    "\n",
    "\n",
    "import os\n",
    "from __future__ import print_function\n",
    "from __future__ import division\n",
    "import pandas as pd\n",
    "import numpy as np\n",
    "import matplotlib.pyplot as plt\n",
    "\n",
    "%matplotlib inline"
   ]
  },
  {
   "cell_type": "markdown",
   "metadata": {},
   "source": [
    "### Disclaimer. Images are taken from the ImageCEF collaboration from [give link here]()\n",
    "\n",
    "Plain black-and-white (two level) images should never be converted to JPEG; they violate all of the conditions given above. You need at least about 16 grey levels before JPEG is useful for grey-scale images. It should also be noted that GIF is lossless for grey-scale images of up to 256 levels, while JPEG is not.\n",
    "\n",
    "References\n",
    "\n",
    "[Plankton Image Classification](https://benanne.github.io/2015/03/17/plankton.html)\n",
    "[github](https://github.com/benanne/kaggle-ndsb)"
   ]
  },
  {
   "cell_type": "code",
   "execution_count": 18,
   "metadata": {},
   "outputs": [],
   "source": [
    "curr_dir = %pwd\n",
    "proj_dir = os.path.normpath(os.path.join(curr_dir, os.path.pardir))\n",
    "image_data_path = \"data/raw/ImageData.csv\"\n",
    "input_filepath = os.path.normpath(os.path.join(proj_dir, image_data_path))"
   ]
  },
  {
   "cell_type": "code",
   "execution_count": 19,
   "metadata": {},
   "outputs": [],
   "source": [
    "df = pd.read_csv(input_filepath, header=None, delimiter=\";\", names=[\"image\", \"class\"],encoding='utf-8')"
   ]
  },
  {
   "cell_type": "code",
   "execution_count": 20,
   "metadata": {},
   "outputs": [
    {
     "data": {
      "text/plain": [
       "array(['Body', 'Head-Neck', 'Lower-Limb', 'Upper-Limb', 'True-Negative'], dtype=object)"
      ]
     },
     "execution_count": 20,
     "metadata": {},
     "output_type": "execute_result"
    }
   ],
   "source": [
    "df[\"class\"].unique()"
   ]
  },
  {
   "cell_type": "markdown",
   "metadata": {},
   "source": [
    "#### Classes\n",
    "We have now made it possible to attach each image to it's corresponding class\n",
    "\n",
    "Body - the body of human\n",
    "\n",
    "Head-Neck - Head and neck\n",
    "\n",
    "Lower-limb - the lower part of a human body\n",
    "\n",
    "Upper-limb - upper part of a human body\n",
    "\n",
    "True-Negative - Image taken with the same x-ray camera that contains non-body parts are considered as true negative.\n"
   ]
  },
  {
   "cell_type": "code",
   "execution_count": 21,
   "metadata": {},
   "outputs": [
    {
     "data": {
      "text/html": [
       "<div>\n",
       "<style>\n",
       "    .dataframe thead tr:only-child th {\n",
       "        text-align: right;\n",
       "    }\n",
       "\n",
       "    .dataframe thead th {\n",
       "        text-align: left;\n",
       "    }\n",
       "\n",
       "    .dataframe tbody tr th {\n",
       "        vertical-align: top;\n",
       "    }\n",
       "</style>\n",
       "<table border=\"1\" class=\"dataframe\">\n",
       "  <thead>\n",
       "    <tr style=\"text-align: right;\">\n",
       "      <th></th>\n",
       "      <th>image</th>\n",
       "      <th>class</th>\n",
       "    </tr>\n",
       "  </thead>\n",
       "  <tbody>\n",
       "    <tr>\n",
       "      <th>0</th>\n",
       "      <td>10.1224.176.125.112.16.201109071451150.jpeg</td>\n",
       "      <td>Body</td>\n",
       "    </tr>\n",
       "    <tr>\n",
       "      <th>1</th>\n",
       "      <td>10.1224.176.125.112.16.201109071557120.1.jpeg</td>\n",
       "      <td>Body</td>\n",
       "    </tr>\n",
       "    <tr>\n",
       "      <th>2</th>\n",
       "      <td>10.1224.176.125.112.16.201109081127120.1.jpeg</td>\n",
       "      <td>Body</td>\n",
       "    </tr>\n",
       "    <tr>\n",
       "      <th>3</th>\n",
       "      <td>10.1224.176.125.112.16.201109081127121.1.jpeg</td>\n",
       "      <td>Body</td>\n",
       "    </tr>\n",
       "    <tr>\n",
       "      <th>4</th>\n",
       "      <td>10.1224.176.125.112.16.20110908123224.4.jpeg</td>\n",
       "      <td>Body</td>\n",
       "    </tr>\n",
       "  </tbody>\n",
       "</table>\n",
       "</div>"
      ],
      "text/plain": [
       "                                               image class\n",
       "0  10.1224.176.125.112.16.201109071451150.jpeg        Body\n",
       "1  10.1224.176.125.112.16.201109071557120.1.jpeg      Body\n",
       "2  10.1224.176.125.112.16.201109081127120.1.jpeg      Body\n",
       "3  10.1224.176.125.112.16.201109081127121.1.jpeg      Body\n",
       "4  10.1224.176.125.112.16.20110908123224.4.jpeg       Body"
      ]
     },
     "execution_count": 21,
     "metadata": {},
     "output_type": "execute_result"
    }
   ],
   "source": [
    "df.head()"
   ]
  },
  {
   "cell_type": "markdown",
   "metadata": {},
   "source": [
    "# strip whitespaces"
   ]
  },
  {
   "cell_type": "code",
   "execution_count": 22,
   "metadata": {
    "collapsed": true
   },
   "outputs": [],
   "source": [
    "df[\"image\"] = df[\"image\"].map(str.strip)"
   ]
  },
  {
   "cell_type": "code",
   "execution_count": 34,
   "metadata": {},
   "outputs": [],
   "source": [
    "raw_images = 'data/raw/Image_Downscaled'\n",
    "raw_storage = os.path.abspath(os.path.join(proj_dir, raw_images))"
   ]
  },
  {
   "cell_type": "code",
   "execution_count": 35,
   "metadata": {},
   "outputs": [],
   "source": [
    "import scipy.misc\n",
    "image = scipy.misc.imread(raw_storage + '/' + str(df['image'][0]), mode='L')"
   ]
  },
  {
   "cell_type": "code",
   "execution_count": 36,
   "metadata": {},
   "outputs": [
    {
     "data": {
      "text/plain": [
       "(1189, 1600)"
      ]
     },
     "execution_count": 36,
     "metadata": {},
     "output_type": "execute_result"
    }
   ],
   "source": [
    "image.shape"
   ]
  },
  {
   "cell_type": "code",
   "execution_count": 37,
   "metadata": {},
   "outputs": [
    {
     "data": {
      "text/plain": [
       "array([0, 0, 0, ..., 1, 1, 1], dtype=uint8)"
      ]
     },
     "execution_count": 37,
     "metadata": {},
     "output_type": "execute_result"
    }
   ],
   "source": [
    "image[0,:]"
   ]
  },
  {
   "cell_type": "code",
   "execution_count": 38,
   "metadata": {},
   "outputs": [
    {
     "data": {
      "text/plain": [
       "<matplotlib.image.AxesImage at 0x11696b2e8>"
      ]
     },
     "execution_count": 38,
     "metadata": {},
     "output_type": "execute_result"
    },
    {
     "data": {
      "image/png": "[encoded data removed]",
      "text/plain": [
       "<matplotlib.figure.Figure at 0x1137df4e0>"
      ]
     },
     "metadata": {},
     "output_type": "display_data"
    }
   ],
   "source": [
    "plt.imshow(image)"
   ]
  },
  {
   "cell_type": "markdown",
   "metadata": {},
   "source": [
    "## Convert image filenames into np.arrays"
   ]
  },
  {
   "cell_type": "code",
   "execution_count": 42,
   "metadata": {},
   "outputs": [],
   "source": [
    "os.chdir(raw_storage)\n",
    "from functools import partial\n",
    "\n",
    "df['image'] = df['image'].map(partial(scipy.misc.imread, mode='L'))"
   ]
  },
  {
   "cell_type": "code",
   "execution_count": 43,
   "metadata": {},
   "outputs": [
    {
     "data": {
      "text/html": [
       "<div>\n",
       "<style>\n",
       "    .dataframe thead tr:only-child th {\n",
       "        text-align: right;\n",
       "    }\n",
       "\n",
       "    .dataframe thead th {\n",
       "        text-align: left;\n",
       "    }\n",
       "\n",
       "    .dataframe tbody tr th {\n",
       "        vertical-align: top;\n",
       "    }\n",
       "</style>\n",
       "<table border=\"1\" class=\"dataframe\">\n",
       "  <thead>\n",
       "    <tr style=\"text-align: right;\">\n",
       "      <th></th>\n",
       "      <th>image</th>\n",
       "      <th>class</th>\n",
       "    </tr>\n",
       "  </thead>\n",
       "  <tbody>\n",
       "    <tr>\n",
       "      <th>0</th>\n",
       "      <td>[[0, 0, 0, 0, 0, 0, 0, 0, 0, 0, 0, 0, 0, 0, 0,...</td>\n",
       "      <td>Body</td>\n",
       "    </tr>\n",
       "    <tr>\n",
       "      <th>1</th>\n",
       "      <td>[[1, 1, 1, 1, 1, 0, 0, 0, 1, 1, 1, 1, 1, 2, 2,...</td>\n",
       "      <td>Body</td>\n",
       "    </tr>\n",
       "    <tr>\n",
       "      <th>2</th>\n",
       "      <td>[[0, 0, 0, 0, 0, 0, 0, 0, 0, 0, 0, 0, 0, 1, 1,...</td>\n",
       "      <td>Body</td>\n",
       "    </tr>\n",
       "    <tr>\n",
       "      <th>3</th>\n",
       "      <td>[[0, 0, 0, 0, 0, 0, 0, 0, 1, 1, 1, 1, 1, 2, 2,...</td>\n",
       "      <td>Body</td>\n",
       "    </tr>\n",
       "    <tr>\n",
       "      <th>4</th>\n",
       "      <td>[[0, 0, 0, 0, 0, 0, 0, 0, 0, 0, 0, 0, 0, 0, 0,...</td>\n",
       "      <td>Body</td>\n",
       "    </tr>\n",
       "  </tbody>\n",
       "</table>\n",
       "</div>"
      ],
      "text/plain": [
       "                                               image class\n",
       "0  [[0, 0, 0, 0, 0, 0, 0, 0, 0, 0, 0, 0, 0, 0, 0,...  Body\n",
       "1  [[1, 1, 1, 1, 1, 0, 0, 0, 1, 1, 1, 1, 1, 2, 2,...  Body\n",
       "2  [[0, 0, 0, 0, 0, 0, 0, 0, 0, 0, 0, 0, 0, 1, 1,...  Body\n",
       "3  [[0, 0, 0, 0, 0, 0, 0, 0, 1, 1, 1, 1, 1, 2, 2,...  Body\n",
       "4  [[0, 0, 0, 0, 0, 0, 0, 0, 0, 0, 0, 0, 0, 0, 0,...  Body"
      ]
     },
     "execution_count": 43,
     "metadata": {},
     "output_type": "execute_result"
    }
   ],
   "source": [
    "df.head()"
   ]
  },
  {
   "cell_type": "markdown",
   "metadata": {},
   "source": [
    "### creation of the train and test sets of the images"
   ]
  },
  {
   "cell_type": "code",
   "execution_count": 44,
   "metadata": {},
   "outputs": [
    {
     "data": {
      "text/plain": [
       "255"
      ]
     },
     "execution_count": 44,
     "metadata": {},
     "output_type": "execute_result"
    }
   ],
   "source": [
    "df['image'][0].max()"
   ]
  },
  {
   "cell_type": "markdown",
   "metadata": {},
   "source": [
    "resizing for less of size of the images"
   ]
  },
  {
   "cell_type": "code",
   "execution_count": 45,
   "metadata": {
    "collapsed": true
   },
   "outputs": [],
   "source": [
    "class_dict = {'Body': 0,\n",
    " 'Head-Neck': 1,\n",
    " 'Lower-Limb': 2,\n",
    " 'Upper-Limb': 3,\n",
    " 'True-Negative': 4}"
   ]
  },
  {
   "cell_type": "code",
   "execution_count": 47,
   "metadata": {},
   "outputs": [
    {
     "name": "stdout",
     "output_type": "stream",
     "text": [
      "100\n",
      "20\n",
      "100\n",
      "20\n",
      "100\n",
      "20\n",
      "100\n",
      "20\n",
      "100\n",
      "20\n"
     ]
    }
   ],
   "source": [
    "train_shuffled_images = []\n",
    "test_shuffled_images = []\n",
    "\n",
    "test_percentage = 0.2\n",
    "\n",
    "for key, value in class_dict.items():\n",
    "    class_images = df[df['class'] == key]['image'].tolist()\n",
    "    print(len(class_images))\n",
    "    #np.random.shuffle(shuffled)\n",
    "\n",
    "    k = int(len(class_images) * test_percentage)\n",
    "    print(k)\n",
    "    test_shuffled_images = test_shuffled_images + class_images[0:k]\n",
    "    train_shuffled_images = train_shuffled_images + class_images[k:]"
   ]
  },
  {
   "cell_type": "markdown",
   "metadata": {},
   "source": [
    "# preprocessing of the images"
   ]
  },
  {
   "cell_type": "markdown",
   "metadata": {},
   "source": [
    "util function to create the directory"
   ]
  },
  {
   "cell_type": "code",
   "execution_count": 109,
   "metadata": {
    "collapsed": true
   },
   "outputs": [],
   "source": [
    "import os\n",
    "import errno\n",
    "\n",
    "def make_sure_path_exists(path):\n",
    "    try:\n",
    "        os.makedirs(path)\n",
    "    except OSError as exception:\n",
    "        if exception.errno != errno.EEXIST:\n",
    "            raise"
   ]
  },
  {
   "cell_type": "markdown",
   "metadata": {},
   "source": [
    "### Resizing of the images for test and training"
   ]
  },
  {
   "cell_type": "code",
   "execution_count": 51,
   "metadata": {
    "collapsed": true
   },
   "outputs": [],
   "source": [
    "import scipy.misc"
   ]
  },
  {
   "cell_type": "code",
   "execution_count": 52,
   "metadata": {
    "collapsed": true
   },
   "outputs": [],
   "source": [
    "train_images = [scipy.misc.imresize(image, (100,50)) for image in train_shuffled_images]\n",
    "test_images = [scipy.misc.imresize(image, (100,50)) for image in test_shuffled_images]"
   ]
  },
  {
   "cell_type": "markdown",
   "metadata": {},
   "source": [
    "##### creation of the train and test folders for keras to use .flow_from_directory method"
   ]
  },
  {
   "cell_type": "code",
   "execution_count": 65,
   "metadata": {},
   "outputs": [],
   "source": [
    "os.chdir(proj_dir)\n",
    "test_dir = 'data/processed/test'\n",
    "train_dir = 'data/processed/train'\n",
    "class_feature = ['Body','Head-Neck','Lower-Limb','Upper-Limb','True-Negative']"
   ]
  },
  {
   "cell_type": "code",
   "execution_count": 72,
   "metadata": {
    "collapsed": true
   },
   "outputs": [],
   "source": [
    "def put_class_images_in_folders(save_dir, image_list):\n",
    "    counter = 0\n",
    "    class_counter = 0\n",
    "    first = True\n",
    "\n",
    "    make_sure_path_exists(save_dir)\n",
    "\n",
    "    for image in image_list:\n",
    "        counter += 1\n",
    "\n",
    "        if (counter % int(len(image_list) / len(class_feature)) == 0) and (first == False) != (counter == int(len(image_list))):\n",
    "            print(counter)\n",
    "            class_counter += 1\n",
    "        first = False\n",
    "\n",
    "        class_dir = os.path.join(save_dir,class_feature[class_counter])\n",
    "        make_sure_path_exists(class_dir)\n",
    "\n",
    "        save_image = os.path.join(class_dir,'{}_{}.jpeg'.format(class_feature[class_counter],\"\".join((map(str,np.random.randint(0,9,8))))))\n",
    "\n",
    "        scipy.misc.imsave(save_image, image)"
   ]
  },
  {
   "cell_type": "code",
   "execution_count": 71,
   "metadata": {
    "collapsed": true
   },
   "outputs": [],
   "source": [
    "def put_test_class_images_in_folders(save_dir, image_list):\n",
    "    counter = 0\n",
    "    class_counter = 0\n",
    "    first = True\n",
    "\n",
    "    make_sure_path_exists(save_dir)\n",
    "\n",
    "    for image in image_list:\n",
    "        counter += 1\n",
    "\n",
    "        if (counter % int(len(image_list) / len(class_feature)) == 0) and (first == False) != (counter == int(len(image_list))):\n",
    "            print(counter)\n",
    "            class_counter += 1\n",
    "        first = False\n",
    "\n",
    "        class_dir = os.path.join(save_dir,class_feature[class_counter])\n",
    "        make_sure_path_exists(class_dir)\n",
    "\n",
    "        save_image = os.path.join(class_dir,'{}_{}.jpeg'.format(class_feature[class_counter],\"\".join((map(str,np.random.randint(0,9,8))))))\n",
    "\n",
    "        scipy.misc.imsave(save_image, image)"
   ]
  },
  {
   "cell_type": "code",
   "execution_count": 68,
   "metadata": {
    "collapsed": true
   },
   "outputs": [],
   "source": [
    "import itertools\n",
    "\n",
    "\n",
    "def put_classes_into_separate_folders(parent_dir, images):\n",
    "    make_sure_path_exists(parent_dir)\n",
    "    \n",
    "    "
   ]
  },
  {
   "cell_type": "code",
   "execution_count": 69,
   "metadata": {
    "collapsed": true
   },
   "outputs": [],
   "source": [
    "mydict = dict(zip(df['class'],df['image']))"
   ]
  },
  {
   "cell_type": "code",
   "execution_count": 70,
   "metadata": {},
   "outputs": [
    {
     "name": "stdout",
     "output_type": "stream",
     "text": [
      "20\n",
      "40\n",
      "60\n",
      "80\n",
      "80\n",
      "160\n",
      "240\n",
      "320\n"
     ]
    }
   ],
   "source": [
    "put_test_class_images_in_folders(test_dir, test_images)\n",
    "put_class_images_in_folders(train_dir, train_images)"
   ]
  },
  {
   "cell_type": "code",
   "execution_count": null,
   "metadata": {
    "collapsed": true
   },
   "outputs": [],
   "source": []
  }
 ],
 "metadata": {
  "kernelspec": {
   "display_name": "Python 3",
   "language": "python",
   "name": "python3"
  },
  "language_info": {
   "codemirror_mode": {
    "name": "ipython",
    "version": 3
   },
   "file_extension": ".py",
   "mimetype": "text/x-python",
   "name": "python",
   "nbconvert_exporter": "python",
   "pygments_lexer": "ipython3",
   "version": "3.6.1"
  }
 },
 "nbformat": 4,
 "nbformat_minor": 1
}
