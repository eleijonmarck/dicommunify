{
 "cells": [
  {
   "cell_type": "markdown",
   "metadata": {},
   "source": [
    "# Pre-processing - making the dataset "
   ]
  },
  {
   "cell_type": "code",
   "execution_count": 1,
   "metadata": {},
   "outputs": [],
   "source": [
    "# -*- coding: utf-8 -*-\n",
    "\n",
    "\n",
    "import os\n",
    "from __future__ import print_function\n",
    "import pandas as pd\n",
    "import numpy as np\n",
    "import matplotlib.pyplot as plt\n",
    "\n",
    "%matplotlib inline"
   ]
  },
  {
   "cell_type": "markdown",
   "metadata": {},
   "source": [
    "### Disclaimer. Images are taken from the ImageCEF collaboration from [give link here]()\n",
    "\n",
    "Plain black-and-white (two level) images should never be converted to JPEG; they violate all of the conditions given above. You need at least about 16 grey levels before JPEG is useful for grey-scale images. It should also be noted that GIF is lossless for grey-scale images of up to 256 levels, while JPEG is not.\n",
    "\n",
    "References\n",
    "\n",
    "[Plankton Image Classification](https://benanne.github.io/2015/03/17/plankton.html)\n",
    "[github](https://github.com/benanne/kaggle-ndsb)"
   ]
  },
  {
   "cell_type": "code",
   "execution_count": 2,
   "metadata": {
    "collapsed": true
   },
   "outputs": [],
   "source": [
    "input_filepath = \"/Users/ericleijonmarck/dev/dicommunify/data/raw/ImageData.csv\"\n",
    "output_filepath = \"/Users/ericleijonmarck/dev/dicommunify/data/processed/prep_imagedata.csv\""
   ]
  },
  {
   "cell_type": "code",
   "execution_count": 3,
   "metadata": {},
   "outputs": [],
   "source": [
    "df = pd.read_csv(input_filepath, header=None, delimiter=\";\", names=[\"image\", \"class\"],encoding='utf-8')"
   ]
  },
  {
   "cell_type": "code",
   "execution_count": 4,
   "metadata": {},
   "outputs": [
    {
     "data": {
      "text/plain": [
       "array(['Body', 'Head-Neck', 'Lower-Limb', 'Upper-Limb', 'True-Negative'], dtype=object)"
      ]
     },
     "execution_count": 4,
     "metadata": {},
     "output_type": "execute_result"
    }
   ],
   "source": [
    "df[\"class\"].unique()"
   ]
  },
  {
   "cell_type": "markdown",
   "metadata": {},
   "source": [
    "#### Classes\n",
    "We have now made it possible to attach each image to it's corresponding class\n",
    "\n",
    "Body - the body of human\n",
    "\n",
    "Head-Neck - Head and neck\n",
    "\n",
    "Lower-limb - the lower part of a human body\n",
    "\n",
    "Upper-limb - upper part of a human body\n",
    "\n",
    "True-Negative - Image taken with the same x-ray camera that contains non-body parts are considered as true negative.\n"
   ]
  },
  {
   "cell_type": "code",
   "execution_count": 5,
   "metadata": {},
   "outputs": [
    {
     "data": {
      "text/html": [
       "<div>\n",
       "<style>\n",
       "    .dataframe thead tr:only-child th {\n",
       "        text-align: right;\n",
       "    }\n",
       "\n",
       "    .dataframe thead th {\n",
       "        text-align: left;\n",
       "    }\n",
       "\n",
       "    .dataframe tbody tr th {\n",
       "        vertical-align: top;\n",
       "    }\n",
       "</style>\n",
       "<table border=\"1\" class=\"dataframe\">\n",
       "  <thead>\n",
       "    <tr style=\"text-align: right;\">\n",
       "      <th></th>\n",
       "      <th>image</th>\n",
       "      <th>class</th>\n",
       "    </tr>\n",
       "  </thead>\n",
       "  <tbody>\n",
       "    <tr>\n",
       "      <th>0</th>\n",
       "      <td>10.1224.176.125.112.16.201109071451150.jpeg</td>\n",
       "      <td>Body</td>\n",
       "    </tr>\n",
       "    <tr>\n",
       "      <th>1</th>\n",
       "      <td>10.1224.176.125.112.16.201109071557120.1.jpeg</td>\n",
       "      <td>Body</td>\n",
       "    </tr>\n",
       "    <tr>\n",
       "      <th>2</th>\n",
       "      <td>10.1224.176.125.112.16.201109081127120.1.jpeg</td>\n",
       "      <td>Body</td>\n",
       "    </tr>\n",
       "    <tr>\n",
       "      <th>3</th>\n",
       "      <td>10.1224.176.125.112.16.201109081127121.1.jpeg</td>\n",
       "      <td>Body</td>\n",
       "    </tr>\n",
       "    <tr>\n",
       "      <th>4</th>\n",
       "      <td>10.1224.176.125.112.16.20110908123224.4.jpeg</td>\n",
       "      <td>Body</td>\n",
       "    </tr>\n",
       "  </tbody>\n",
       "</table>\n",
       "</div>"
      ],
      "text/plain": [
       "                                               image class\n",
       "0  10.1224.176.125.112.16.201109071451150.jpeg        Body\n",
       "1  10.1224.176.125.112.16.201109071557120.1.jpeg      Body\n",
       "2  10.1224.176.125.112.16.201109081127120.1.jpeg      Body\n",
       "3  10.1224.176.125.112.16.201109081127121.1.jpeg      Body\n",
       "4  10.1224.176.125.112.16.20110908123224.4.jpeg       Body"
      ]
     },
     "execution_count": 5,
     "metadata": {},
     "output_type": "execute_result"
    }
   ],
   "source": [
    "df.head()"
   ]
  },
  {
   "cell_type": "markdown",
   "metadata": {},
   "source": [
    "# strip whitespaces"
   ]
  },
  {
   "cell_type": "code",
   "execution_count": 6,
   "metadata": {},
   "outputs": [],
   "source": [
    "df[\"image\"] = df[\"image\"].map(str.strip)"
   ]
  },
  {
   "cell_type": "code",
   "execution_count": 7,
   "metadata": {},
   "outputs": [
    {
     "data": {
      "text/plain": [
       "\"\\nproject_dir = os.path.join(os.path.dirname(__file__), os.pardir, os.pardir)\\ndata_dir = os.path.join(project_dir,'data')\\nimage_dir = os.path.join(project_dir,'data','raw','Image_Downscaled')\\n\""
      ]
     },
     "execution_count": 7,
     "metadata": {},
     "output_type": "execute_result"
    }
   ],
   "source": [
    "raw_storage = '/users/ericleijonmarck/dev/dicommunify/data/raw/Image_Downscaled/'\n",
    "'''\n",
    "project_dir = os.path.join(os.path.dirname(__file__), os.pardir, os.pardir)\n",
    "data_dir = os.path.join(project_dir,'data')\n",
    "image_dir = os.path.join(project_dir,'data','raw','Image_Downscaled')\n",
    "'''"
   ]
  },
  {
   "cell_type": "code",
   "execution_count": 8,
   "metadata": {},
   "outputs": [],
   "source": [
    "import matplotlib.image as img\n",
    "image = img.imread(raw_storage + str(df['image'][0]))"
   ]
  },
  {
   "cell_type": "code",
   "execution_count": 9,
   "metadata": {},
   "outputs": [
    {
     "data": {
      "text/plain": [
       "(1189, 1600, 3)"
      ]
     },
     "execution_count": 9,
     "metadata": {},
     "output_type": "execute_result"
    }
   ],
   "source": [
    "image.shape"
   ]
  },
  {
   "cell_type": "code",
   "execution_count": 10,
   "metadata": {},
   "outputs": [
    {
     "data": {
      "text/plain": [
       "array([0, 0, 0], dtype=uint8)"
      ]
     },
     "execution_count": 10,
     "metadata": {},
     "output_type": "execute_result"
    }
   ],
   "source": [
    "image[0,0,:]"
   ]
  },
  {
   "cell_type": "code",
   "execution_count": 11,
   "metadata": {},
   "outputs": [
    {
     "data": {
      "text/plain": [
       "<matplotlib.image.AxesImage at 0x10e16c128>"
      ]
     },
     "execution_count": 11,
     "metadata": {},
     "output_type": "execute_result"
    },
    {
     "data": {
      "image/png": "[encoded data removed]",
      "text/plain": [
       "<matplotlib.figure.Figure at 0x10cef7f28>"
      ]
     },
     "metadata": {},
     "output_type": "display_data"
    }
   ],
   "source": [
    "plt.imshow(image)"
   ]
  },
  {
   "cell_type": "markdown",
   "metadata": {},
   "source": [
    "## Convert image filenames into np.arrays"
   ]
  },
  {
   "cell_type": "code",
   "execution_count": 12,
   "metadata": {},
   "outputs": [
    {
     "name": "stdout",
     "output_type": "stream",
     "text": [
      "/Users/ericleijonmarck/dev/dicommunify/data/raw/Image_Downscaled\n"
     ]
    }
   ],
   "source": [
    "%cd '/users/ericleijonmarck/dev/dicommunify/data/raw/Image_Downscaled/'\n",
    "df['image'] = df['image'].map(img.imread)"
   ]
  },
  {
   "cell_type": "code",
   "execution_count": 13,
   "metadata": {},
   "outputs": [
    {
     "data": {
      "text/plain": [
       "3768"
      ]
     },
     "execution_count": 13,
     "metadata": {},
     "output_type": "execute_result"
    }
   ],
   "source": [
    "dimen = []\n",
    "ratio = []\n",
    "for i in range(len(df['image'])):\n",
    "    dimen.append(df['image'][i].shape[0])\n",
    "    ratio.append((df['image'][i].shape[0] / df['image'][i].shape[1]))\n",
    "max(dimen)"
   ]
  },
  {
   "cell_type": "code",
   "execution_count": 14,
   "metadata": {},
   "outputs": [
    {
     "name": "stdout",
     "output_type": "stream",
     "text": [
      "max : %s and min : %s 2.355 0.553125\n"
     ]
    }
   ],
   "source": [
    "print(\"max : %s and \"\"min : %s\",max(ratio), min(ratio))"
   ]
  },
  {
   "cell_type": "code",
   "execution_count": 15,
   "metadata": {},
   "outputs": [
    {
     "data": {
      "text/html": [
       "<div>\n",
       "<style>\n",
       "    .dataframe thead tr:only-child th {\n",
       "        text-align: right;\n",
       "    }\n",
       "\n",
       "    .dataframe thead th {\n",
       "        text-align: left;\n",
       "    }\n",
       "\n",
       "    .dataframe tbody tr th {\n",
       "        vertical-align: top;\n",
       "    }\n",
       "</style>\n",
       "<table border=\"1\" class=\"dataframe\">\n",
       "  <thead>\n",
       "    <tr style=\"text-align: right;\">\n",
       "      <th></th>\n",
       "      <th>image</th>\n",
       "      <th>class</th>\n",
       "    </tr>\n",
       "  </thead>\n",
       "  <tbody>\n",
       "    <tr>\n",
       "      <th>0</th>\n",
       "      <td>[[[0, 0, 0], [0, 0, 0], [0, 0, 0], [0, 0, 0], ...</td>\n",
       "      <td>Body</td>\n",
       "    </tr>\n",
       "    <tr>\n",
       "      <th>1</th>\n",
       "      <td>[[[1, 1, 1], [1, 1, 1], [1, 1, 1], [1, 1, 1], ...</td>\n",
       "      <td>Body</td>\n",
       "    </tr>\n",
       "    <tr>\n",
       "      <th>2</th>\n",
       "      <td>[[[0, 0, 0], [0, 0, 0], [0, 0, 0], [0, 0, 0], ...</td>\n",
       "      <td>Body</td>\n",
       "    </tr>\n",
       "    <tr>\n",
       "      <th>3</th>\n",
       "      <td>[[[0, 0, 0], [0, 0, 0], [0, 0, 0], [0, 0, 0], ...</td>\n",
       "      <td>Body</td>\n",
       "    </tr>\n",
       "    <tr>\n",
       "      <th>4</th>\n",
       "      <td>[[[0, 0, 0], [0, 0, 0], [0, 0, 0], [0, 0, 0], ...</td>\n",
       "      <td>Body</td>\n",
       "    </tr>\n",
       "  </tbody>\n",
       "</table>\n",
       "</div>"
      ],
      "text/plain": [
       "                                               image class\n",
       "0  [[[0, 0, 0], [0, 0, 0], [0, 0, 0], [0, 0, 0], ...  Body\n",
       "1  [[[1, 1, 1], [1, 1, 1], [1, 1, 1], [1, 1, 1], ...  Body\n",
       "2  [[[0, 0, 0], [0, 0, 0], [0, 0, 0], [0, 0, 0], ...  Body\n",
       "3  [[[0, 0, 0], [0, 0, 0], [0, 0, 0], [0, 0, 0], ...  Body\n",
       "4  [[[0, 0, 0], [0, 0, 0], [0, 0, 0], [0, 0, 0], ...  Body"
      ]
     },
     "execution_count": 15,
     "metadata": {},
     "output_type": "execute_result"
    }
   ],
   "source": [
    "df.head()"
   ]
  },
  {
   "cell_type": "code",
   "execution_count": 26,
   "metadata": {},
   "outputs": [
    {
     "data": {
      "text/plain": [
       "255"
      ]
     },
     "execution_count": 26,
     "metadata": {},
     "output_type": "execute_result"
    }
   ],
   "source": [
    "df['image'][0].max()"
   ]
  },
  {
   "cell_type": "markdown",
   "metadata": {},
   "source": [
    "### Resizign of the images to a fixed length"
   ]
  },
  {
   "cell_type": "code",
   "execution_count": 16,
   "metadata": {
    "collapsed": true
   },
   "outputs": [],
   "source": [
    "class_dict = {'Body': 0,\n",
    " 'Head-Neck': 1,\n",
    " 'Lower-Limb': 2,\n",
    " 'Upper-Limb': 3,\n",
    " 'True-Negative': 4}"
   ]
  },
  {
   "cell_type": "markdown",
   "metadata": {},
   "source": [
    "### creation of the train and test sets of the images"
   ]
  },
  {
   "cell_type": "markdown",
   "metadata": {},
   "source": [
    "resizing for less of size of the images"
   ]
  },
  {
   "cell_type": "code",
   "execution_count": 17,
   "metadata": {},
   "outputs": [
    {
     "name": "stdout",
     "output_type": "stream",
     "text": [
      "100\n",
      "20\n",
      "100\n",
      "20\n",
      "100\n",
      "20\n",
      "100\n",
      "20\n",
      "100\n",
      "20\n"
     ]
    }
   ],
   "source": [
    "train_shuffled_images = []\n",
    "test_shuffled_images = []\n",
    "\n",
    "test_percentage = 0.2\n",
    "\n",
    "for key, value in class_dict.items():\n",
    "    shuffled = df[df['class'] == key]['image'].tolist()\n",
    "    print(len(shuffled))\n",
    "    np.random.shuffle(shuffled)\n",
    "\n",
    "    k = int(len(shuffled) * test_percentage)\n",
    "    print(k)\n",
    "    test_shuffled_images = test_shuffled_images + shuffled[0:k]\n",
    "    train_shuffled_images = train_shuffled_images + shuffled[k:]"
   ]
  },
  {
   "cell_type": "markdown",
   "metadata": {},
   "source": [
    "### Resizing of the miages for test and training"
   ]
  },
  {
   "cell_type": "code",
   "execution_count": 18,
   "metadata": {
    "collapsed": true
   },
   "outputs": [],
   "source": [
    "import scipy.misc"
   ]
  },
  {
   "cell_type": "code",
   "execution_count": 19,
   "metadata": {},
   "outputs": [],
   "source": [
    "train_images = [scipy.misc.imresize(image, (100,50)) for image in train_shuffled_images]\n",
    "test_images = [scipy.misc.imresize(image, (100,50)) for image in test_shuffled_images]"
   ]
  },
  {
   "cell_type": "markdown",
   "metadata": {},
   "source": [
    "### Keras implementation"
   ]
  },
  {
   "cell_type": "markdown",
   "metadata": {},
   "source": [
    "\n",
    "* configure random transformations and normalization operations to be done on your image data during training\n",
    "* instantiate generators of augmented image batches (and their labels) via .flow(data, labels) or .flow_from_directory(directory). These generators can then be used with the Keras model methods that accept data generators as inputs, fit_generator, evaluate_generator and predict_generator."
   ]
  },
  {
   "cell_type": "markdown",
   "metadata": {},
   "source": [
    "# preprocessing of the images - Augmentation"
   ]
  },
  {
   "cell_type": "code",
   "execution_count": 20,
   "metadata": {},
   "outputs": [
    {
     "name": "stderr",
     "output_type": "stream",
     "text": [
      "Using TensorFlow backend.\n"
     ]
    }
   ],
   "source": [
    "from keras.preprocessing.image import ImageDataGenerator"
   ]
  },
  {
   "cell_type": "code",
   "execution_count": 21,
   "metadata": {
    "collapsed": true
   },
   "outputs": [],
   "source": [
    "import os\n",
    "import errno\n",
    "\n",
    "def make_sure_path_exists(path):\n",
    "    try:\n",
    "        os.makedirs(path)\n",
    "    except OSError as exception:\n",
    "        if exception.errno != errno.EEXIST:\n",
    "            raise"
   ]
  },
  {
   "cell_type": "markdown",
   "metadata": {},
   "source": [
    "### Train datagenerator augmentation\n",
    "\n",
    "generate more training samples"
   ]
  },
  {
   "cell_type": "code",
   "execution_count": 22,
   "metadata": {},
   "outputs": [
    {
     "name": "stdout",
     "output_type": "stream",
     "text": [
      "100\n",
      "200\n",
      "300\n",
      "400\n"
     ]
    }
   ],
   "source": [
    "# the .flow() command below generates batches of randomly transformed images\n",
    "# and saves the results to the `preview/` directory\n",
    "\n",
    "train_datagen = ImageDataGenerator(\n",
    "rotation_range=40,\n",
    "width_shift_range=0.2,\n",
    "height_shift_range=0.2,\n",
    "rescale=1./256,\n",
    "shear_range=0.2,\n",
    "zoom_range=0.2,\n",
    "horizontal_flip=True,\n",
    "fill_mode='nearest')\n",
    "\n",
    "counter = 0\n",
    "class_counter = 0\n",
    "first = True\n",
    "class_feature = ['Body','Head-Neck','Lower-Limb','Upper-Limb','True-Negative']\n",
    "\n",
    "train_dir = '../../processed/train'\n",
    "make_sure_path_exists(train_dir)\n",
    "\n",
    "for image in train_images:\n",
    "    counter += 1\n",
    "    \n",
    "    if (counter % 100 == 0) and (first == False) != (counter == 500):\n",
    "        print(counter)\n",
    "        class_counter += 1\n",
    "    first = False\n",
    "\n",
    "    train_class_dir = os.path.join(train_dir,class_feature[class_counter])\n",
    "    make_sure_path_exists(train_class_dir)\n",
    "    \n",
    "    i = 0\n",
    "    prefix = class_feature[class_counter] + '_'\n",
    "    # making it into the correct array format\n",
    "    image_reshaped = image.reshape((1,) + image.shape)\n",
    "    for batch in train_datagen.flow(image_reshaped, batch_size=1,save_to_dir=train_class_dir, save_prefix=prefix, save_format='jpeg'):\n",
    "        i += 1\n",
    "        if i > 20:\n",
    "            break  # otherwise the generator would loop indefinitely\n",
    "\n"
   ]
  },
  {
   "cell_type": "markdown",
   "metadata": {},
   "source": [
    "### Test datagenerator augmentator\n",
    "\n",
    "generate augmentated images for more test samples"
   ]
  },
  {
   "cell_type": "code",
   "execution_count": 23,
   "metadata": {},
   "outputs": [
    {
     "name": "stdout",
     "output_type": "stream",
     "text": [
      "100\n"
     ]
    }
   ],
   "source": [
    "# the .flow() command below generates batches of randomly transformed images\n",
    "# and saves the results to the `preview/` directory\n",
    "\n",
    "\n",
    "# only rescaling augmentation for test samples\n",
    "test_datagen = ImageDataGenerator(rescale=1./256)\n",
    "\n",
    "counter = 0\n",
    "class_counter = 0\n",
    "first = True\n",
    "class_feature = ['Body','Head-Neck','Lower-Limb','Upper-Limb','True-Negative']\n",
    "\n",
    "test_dir = '../../processed/test'\n",
    "make_sure_path_exists(test_dir)\n",
    "\n",
    "for image in test_images:\n",
    "    counter += 1\n",
    "    \n",
    "    if (counter % 100 == 0) and (first == False) != (counter == 500):\n",
    "        print(counter)\n",
    "        class_counter += 1\n",
    "    first = False\n",
    "    \n",
    "    test_class_dir = os.path.join(test_dir,class_feature[class_counter])\n",
    "    make_sure_path_exists(test_class_dir)\n",
    "\n",
    "    i = 0\n",
    "    prefix = class_feature[class_counter] + '_'\n",
    "    # making it into the correct array format\n",
    "    image_reshaped = image.reshape((1,) + image.shape)\n",
    "    for batch in test_datagen.flow(image_reshaped, batch_size=1,save_to_dir=test_class_dir, save_prefix=prefix, save_format='jpeg'):\n",
    "        i += 1\n",
    "        if i > 20:\n",
    "            break  # otherwise the generator would loop indefinitely"
   ]
  }
 ],
 "metadata": {
  "kernelspec": {
   "display_name": "Python 3",
   "language": "python",
   "name": "python3"
  },
  "language_info": {
   "codemirror_mode": {
    "name": "ipython",
    "version": 3
   },
   "file_extension": ".py",
   "mimetype": "text/x-python",
   "name": "python",
   "nbconvert_exporter": "python",
   "pygments_lexer": "ipython3",
   "version": "3.6.1"
  }
 },
 "nbformat": 4,
 "nbformat_minor": 1
}
